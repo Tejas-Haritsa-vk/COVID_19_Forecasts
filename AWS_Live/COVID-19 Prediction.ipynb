{
 "cells": [
  {
   "cell_type": "code",
   "execution_count": 1,
   "metadata": {},
   "outputs": [],
   "source": [
    "import pandas as pd\n",
    "import numpy as np\n",
    "from statsmodels.tsa.arima_model import ARIMA\n",
    "import matplotlib.pyplot as plt\n",
    "import itertools\n",
    "import warnings\n",
    "warnings.filterwarnings(\"ignore\")\n",
    "\n",
    "import requests\n",
    "from bs4 import BeautifulSoup as bs\n",
    "from datetime import date,timedelta\n",
    "from datetime import datetime as d"
   ]
  },
  {
   "cell_type": "code",
   "execution_count": 4,
   "metadata": {},
   "outputs": [
    {
     "data": {
      "text/html": [
       "<div>\n",
       "<style scoped>\n",
       "    .dataframe tbody tr th:only-of-type {\n",
       "        vertical-align: middle;\n",
       "    }\n",
       "\n",
       "    .dataframe tbody tr th {\n",
       "        vertical-align: top;\n",
       "    }\n",
       "\n",
       "    .dataframe thead th {\n",
       "        text-align: right;\n",
       "    }\n",
       "</style>\n",
       "<table border=\"1\" class=\"dataframe\">\n",
       "  <thead>\n",
       "    <tr style=\"text-align: right;\">\n",
       "      <th></th>\n",
       "      <th>Date</th>\n",
       "      <th>Region</th>\n",
       "      <th>Confirmed Cases</th>\n",
       "      <th>Active Cases</th>\n",
       "      <th>Cured/Discharged</th>\n",
       "      <th>Death</th>\n",
       "    </tr>\n",
       "  </thead>\n",
       "  <tbody>\n",
       "    <tr>\n",
       "      <th>0</th>\n",
       "      <td>12/03/2020</td>\n",
       "      <td>India</td>\n",
       "      <td>74</td>\n",
       "      <td>71</td>\n",
       "      <td>3.0</td>\n",
       "      <td>0.0</td>\n",
       "    </tr>\n",
       "    <tr>\n",
       "      <th>1</th>\n",
       "      <td>13/03/2020</td>\n",
       "      <td>India</td>\n",
       "      <td>75</td>\n",
       "      <td>71</td>\n",
       "      <td>3.0</td>\n",
       "      <td>1.0</td>\n",
       "    </tr>\n",
       "    <tr>\n",
       "      <th>2</th>\n",
       "      <td>14/03/2020</td>\n",
       "      <td>India</td>\n",
       "      <td>84</td>\n",
       "      <td>72</td>\n",
       "      <td>10.0</td>\n",
       "      <td>2.0</td>\n",
       "    </tr>\n",
       "    <tr>\n",
       "      <th>3</th>\n",
       "      <td>15/03/2020</td>\n",
       "      <td>India</td>\n",
       "      <td>107</td>\n",
       "      <td>95</td>\n",
       "      <td>10.0</td>\n",
       "      <td>2.0</td>\n",
       "    </tr>\n",
       "    <tr>\n",
       "      <th>4</th>\n",
       "      <td>16/03/2020</td>\n",
       "      <td>India</td>\n",
       "      <td>114</td>\n",
       "      <td>99</td>\n",
       "      <td>13.0</td>\n",
       "      <td>2.0</td>\n",
       "    </tr>\n",
       "  </tbody>\n",
       "</table>\n",
       "</div>"
      ],
      "text/plain": [
       "         Date Region  Confirmed Cases  Active Cases  Cured/Discharged  Death\n",
       "0  12/03/2020  India               74            71               3.0    0.0\n",
       "1  13/03/2020  India               75            71               3.0    1.0\n",
       "2  14/03/2020  India               84            72              10.0    2.0\n",
       "3  15/03/2020  India              107            95              10.0    2.0\n",
       "4  16/03/2020  India              114            99              13.0    2.0"
      ]
     },
     "execution_count": 4,
     "metadata": {},
     "output_type": "execute_result"
    }
   ],
   "source": [
    "df = pd.read_csv(r\"C:\\Users\\Tejas\\Downloads\\COVID-19 Cases(27-07-2020).csv\")\n",
    "df.drop(columns=[\"S. No.\"],inplace=True)\n",
    "df.head()"
   ]
  },
  {
   "cell_type": "code",
   "execution_count": 5,
   "metadata": {},
   "outputs": [
    {
     "name": "stdout",
     "output_type": "stream",
     "text": [
      "<class 'pandas.core.frame.DataFrame'>\n",
      "RangeIndex: 4742 entries, 0 to 4741\n",
      "Data columns (total 6 columns):\n",
      " #   Column            Non-Null Count  Dtype  \n",
      "---  ------            --------------  -----  \n",
      " 0   Date              4742 non-null   object \n",
      " 1   Region            4742 non-null   object \n",
      " 2   Confirmed Cases   4742 non-null   int64  \n",
      " 3   Active Cases      4742 non-null   int64  \n",
      " 4   Cured/Discharged  4604 non-null   float64\n",
      " 5   Death             4741 non-null   float64\n",
      "dtypes: float64(2), int64(2), object(2)\n",
      "memory usage: 222.4+ KB\n"
     ]
    }
   ],
   "source": [
    "df.info()"
   ]
  },
  {
   "cell_type": "code",
   "execution_count": 6,
   "metadata": {},
   "outputs": [
    {
     "name": "stdout",
     "output_type": "stream",
     "text": [
      "<class 'pandas.core.frame.DataFrame'>\n",
      "Int64Index: 4604 entries, 0 to 4604\n",
      "Data columns (total 6 columns):\n",
      " #   Column            Non-Null Count  Dtype  \n",
      "---  ------            --------------  -----  \n",
      " 0   Date              4604 non-null   object \n",
      " 1   Region            4604 non-null   object \n",
      " 2   Confirmed Cases   4604 non-null   int64  \n",
      " 3   Active Cases      4604 non-null   int64  \n",
      " 4   Cured/Discharged  4604 non-null   float64\n",
      " 5   Death             4604 non-null   float64\n",
      "dtypes: float64(2), int64(2), object(2)\n",
      "memory usage: 251.8+ KB\n"
     ]
    }
   ],
   "source": [
    "df.dropna(inplace=True)\n",
    "df.info()"
   ]
  },
  {
   "cell_type": "code",
   "execution_count": 7,
   "metadata": {},
   "outputs": [
    {
     "data": {
      "text/html": [
       "<div>\n",
       "<style scoped>\n",
       "    .dataframe tbody tr th:only-of-type {\n",
       "        vertical-align: middle;\n",
       "    }\n",
       "\n",
       "    .dataframe tbody tr th {\n",
       "        vertical-align: top;\n",
       "    }\n",
       "\n",
       "    .dataframe thead th {\n",
       "        text-align: right;\n",
       "    }\n",
       "</style>\n",
       "<table border=\"1\" class=\"dataframe\">\n",
       "  <thead>\n",
       "    <tr style=\"text-align: right;\">\n",
       "      <th></th>\n",
       "      <th>Date</th>\n",
       "      <th>Region</th>\n",
       "      <th>Confirmed Cases</th>\n",
       "      <th>Active Cases</th>\n",
       "      <th>Cured/Discharged</th>\n",
       "      <th>Death</th>\n",
       "    </tr>\n",
       "  </thead>\n",
       "  <tbody>\n",
       "    <tr>\n",
       "      <th>122</th>\n",
       "      <td>12/07/2020</td>\n",
       "      <td>India</td>\n",
       "      <td>849553</td>\n",
       "      <td>292258</td>\n",
       "      <td>534621.0</td>\n",
       "      <td>22674.0</td>\n",
       "    </tr>\n",
       "    <tr>\n",
       "      <th>123</th>\n",
       "      <td>13/07/2020</td>\n",
       "      <td>India</td>\n",
       "      <td>878254</td>\n",
       "      <td>301609</td>\n",
       "      <td>553471.0</td>\n",
       "      <td>23174.0</td>\n",
       "    </tr>\n",
       "    <tr>\n",
       "      <th>124</th>\n",
       "      <td>14/07/2020</td>\n",
       "      <td>India</td>\n",
       "      <td>906752</td>\n",
       "      <td>311565</td>\n",
       "      <td>571460.0</td>\n",
       "      <td>23727.0</td>\n",
       "    </tr>\n",
       "    <tr>\n",
       "      <th>125</th>\n",
       "      <td>15/07/2020</td>\n",
       "      <td>India</td>\n",
       "      <td>936181</td>\n",
       "      <td>319840</td>\n",
       "      <td>592032.0</td>\n",
       "      <td>24309.0</td>\n",
       "    </tr>\n",
       "    <tr>\n",
       "      <th>126</th>\n",
       "      <td>16/07/2020</td>\n",
       "      <td>India</td>\n",
       "      <td>968876</td>\n",
       "      <td>331146</td>\n",
       "      <td>612815.0</td>\n",
       "      <td>24915.0</td>\n",
       "    </tr>\n",
       "  </tbody>\n",
       "</table>\n",
       "</div>"
      ],
      "text/plain": [
       "           Date Region  Confirmed Cases  Active Cases  Cured/Discharged  \\\n",
       "122  12/07/2020  India           849553        292258          534621.0   \n",
       "123  13/07/2020  India           878254        301609          553471.0   \n",
       "124  14/07/2020  India           906752        311565          571460.0   \n",
       "125  15/07/2020  India           936181        319840          592032.0   \n",
       "126  16/07/2020  India           968876        331146          612815.0   \n",
       "\n",
       "       Death  \n",
       "122  22674.0  \n",
       "123  23174.0  \n",
       "124  23727.0  \n",
       "125  24309.0  \n",
       "126  24915.0  "
      ]
     },
     "execution_count": 7,
     "metadata": {},
     "output_type": "execute_result"
    }
   ],
   "source": [
    "all_states_df = df[122:4021]\n",
    "all_states_df.head()"
   ]
  },
  {
   "cell_type": "code",
   "execution_count": 1147,
   "metadata": {},
   "outputs": [
    {
     "data": {
      "text/html": [
       "<div>\n",
       "<style scoped>\n",
       "    .dataframe tbody tr th:only-of-type {\n",
       "        vertical-align: middle;\n",
       "    }\n",
       "\n",
       "    .dataframe tbody tr th {\n",
       "        vertical-align: top;\n",
       "    }\n",
       "\n",
       "    .dataframe thead th {\n",
       "        text-align: right;\n",
       "    }\n",
       "</style>\n",
       "<table border=\"1\" class=\"dataframe\">\n",
       "  <thead>\n",
       "    <tr style=\"text-align: right;\">\n",
       "      <th></th>\n",
       "      <th>Date</th>\n",
       "      <th>Region</th>\n",
       "      <th>Confirmed_Cases</th>\n",
       "      <th>Active_Cases</th>\n",
       "      <th>Cured/Discharged</th>\n",
       "      <th>Death</th>\n",
       "    </tr>\n",
       "    <tr>\n",
       "      <th>S. No.</th>\n",
       "      <th></th>\n",
       "      <th></th>\n",
       "      <th></th>\n",
       "      <th></th>\n",
       "      <th></th>\n",
       "      <th></th>\n",
       "    </tr>\n",
       "  </thead>\n",
       "  <tbody>\n",
       "    <tr>\n",
       "      <th>4018</th>\n",
       "      <td>07-07-2020</td>\n",
       "      <td>West Bengal</td>\n",
       "      <td>22987</td>\n",
       "      <td>6973</td>\n",
       "      <td>15235.0</td>\n",
       "      <td>779.0</td>\n",
       "    </tr>\n",
       "    <tr>\n",
       "      <th>4019</th>\n",
       "      <td>08-07-2020</td>\n",
       "      <td>West Bengal</td>\n",
       "      <td>23837</td>\n",
       "      <td>7243</td>\n",
       "      <td>15790.0</td>\n",
       "      <td>804.0</td>\n",
       "    </tr>\n",
       "    <tr>\n",
       "      <th>4020</th>\n",
       "      <td>09-07-2020</td>\n",
       "      <td>West Bengal</td>\n",
       "      <td>24823</td>\n",
       "      <td>7705</td>\n",
       "      <td>16291.0</td>\n",
       "      <td>827.0</td>\n",
       "    </tr>\n",
       "    <tr>\n",
       "      <th>4021</th>\n",
       "      <td>10-07-2020</td>\n",
       "      <td>West Bengal</td>\n",
       "      <td>25911</td>\n",
       "      <td>8231</td>\n",
       "      <td>16826.0</td>\n",
       "      <td>854.0</td>\n",
       "    </tr>\n",
       "    <tr>\n",
       "      <th>4022</th>\n",
       "      <td>11-07-2020</td>\n",
       "      <td>West Bengal</td>\n",
       "      <td>27109</td>\n",
       "      <td>8881</td>\n",
       "      <td>17348.0</td>\n",
       "      <td>880.0</td>\n",
       "    </tr>\n",
       "  </tbody>\n",
       "</table>\n",
       "</div>"
      ],
      "text/plain": [
       "              Date       Region  Confirmed_Cases  Active_Cases  \\\n",
       "S. No.                                                           \n",
       "4018    07-07-2020  West Bengal            22987          6973   \n",
       "4019    08-07-2020  West Bengal            23837          7243   \n",
       "4020    09-07-2020  West Bengal            24823          7705   \n",
       "4021    10-07-2020  West Bengal            25911          8231   \n",
       "4022    11-07-2020  West Bengal            27109          8881   \n",
       "\n",
       "        Cured/Discharged  Death  \n",
       "S. No.                           \n",
       "4018             15235.0  779.0  \n",
       "4019             15790.0  804.0  \n",
       "4020             16291.0  827.0  \n",
       "4021             16826.0  854.0  \n",
       "4022             17348.0  880.0  "
      ]
     },
     "execution_count": 1147,
     "metadata": {},
     "output_type": "execute_result"
    }
   ],
   "source": [
    "all_states_df.tail()"
   ]
  },
  {
   "cell_type": "code",
   "execution_count": 1493,
   "metadata": {},
   "outputs": [],
   "source": [
    "states_df = all_states_df.groupby('Region')\n",
    "state_df = [pd.DataFrame(states_df.get_group(state)) for state in states_df.groups]"
   ]
  },
  {
   "cell_type": "code",
   "execution_count": 1494,
   "metadata": {},
   "outputs": [
    {
     "data": {
      "text/html": [
       "<div>\n",
       "<style scoped>\n",
       "    .dataframe tbody tr th:only-of-type {\n",
       "        vertical-align: middle;\n",
       "    }\n",
       "\n",
       "    .dataframe tbody tr th {\n",
       "        vertical-align: top;\n",
       "    }\n",
       "\n",
       "    .dataframe thead th {\n",
       "        text-align: right;\n",
       "    }\n",
       "</style>\n",
       "<table border=\"1\" class=\"dataframe\">\n",
       "  <thead>\n",
       "    <tr style=\"text-align: right;\">\n",
       "      <th></th>\n",
       "      <th>Date</th>\n",
       "      <th>Region</th>\n",
       "      <th>Confirmed_Cases</th>\n",
       "      <th>Active_Cases</th>\n",
       "      <th>Cured/Discharged</th>\n",
       "      <th>Death</th>\n",
       "    </tr>\n",
       "    <tr>\n",
       "      <th>S. No.</th>\n",
       "      <th></th>\n",
       "      <th></th>\n",
       "      <th></th>\n",
       "      <th></th>\n",
       "      <th></th>\n",
       "      <th></th>\n",
       "    </tr>\n",
       "  </thead>\n",
       "  <tbody>\n",
       "    <tr>\n",
       "      <th>123</th>\n",
       "      <td>27-03-2020</td>\n",
       "      <td>Andaman and Nicobar Islands</td>\n",
       "      <td>1</td>\n",
       "      <td>1</td>\n",
       "      <td>0.0</td>\n",
       "      <td>0.0</td>\n",
       "    </tr>\n",
       "    <tr>\n",
       "      <th>124</th>\n",
       "      <td>28-03-2020</td>\n",
       "      <td>Andaman and Nicobar Islands</td>\n",
       "      <td>6</td>\n",
       "      <td>6</td>\n",
       "      <td>0.0</td>\n",
       "      <td>0.0</td>\n",
       "    </tr>\n",
       "    <tr>\n",
       "      <th>125</th>\n",
       "      <td>29-03-2020</td>\n",
       "      <td>Andaman and Nicobar Islands</td>\n",
       "      <td>9</td>\n",
       "      <td>9</td>\n",
       "      <td>0.0</td>\n",
       "      <td>0.0</td>\n",
       "    </tr>\n",
       "    <tr>\n",
       "      <th>126</th>\n",
       "      <td>30-03-2020</td>\n",
       "      <td>Andaman and Nicobar Islands</td>\n",
       "      <td>9</td>\n",
       "      <td>9</td>\n",
       "      <td>0.0</td>\n",
       "      <td>0.0</td>\n",
       "    </tr>\n",
       "    <tr>\n",
       "      <th>127</th>\n",
       "      <td>31-03-2020</td>\n",
       "      <td>Andaman and Nicobar Islands</td>\n",
       "      <td>10</td>\n",
       "      <td>10</td>\n",
       "      <td>0.0</td>\n",
       "      <td>0.0</td>\n",
       "    </tr>\n",
       "  </tbody>\n",
       "</table>\n",
       "</div>"
      ],
      "text/plain": [
       "              Date                       Region  Confirmed_Cases  \\\n",
       "S. No.                                                             \n",
       "123     27-03-2020  Andaman and Nicobar Islands                1   \n",
       "124     28-03-2020  Andaman and Nicobar Islands                6   \n",
       "125     29-03-2020  Andaman and Nicobar Islands                9   \n",
       "126     30-03-2020  Andaman and Nicobar Islands                9   \n",
       "127     31-03-2020  Andaman and Nicobar Islands               10   \n",
       "\n",
       "        Active_Cases  Cured/Discharged  Death  \n",
       "S. No.                                         \n",
       "123                1               0.0    0.0  \n",
       "124                6               0.0    0.0  \n",
       "125                9               0.0    0.0  \n",
       "126                9               0.0    0.0  \n",
       "127               10               0.0    0.0  "
      ]
     },
     "execution_count": 1494,
     "metadata": {},
     "output_type": "execute_result"
    }
   ],
   "source": [
    "state_df[0].head()"
   ]
  },
  {
   "cell_type": "code",
   "execution_count": 1495,
   "metadata": {},
   "outputs": [
    {
     "data": {
      "text/html": [
       "<div>\n",
       "<style scoped>\n",
       "    .dataframe tbody tr th:only-of-type {\n",
       "        vertical-align: middle;\n",
       "    }\n",
       "\n",
       "    .dataframe tbody tr th {\n",
       "        vertical-align: top;\n",
       "    }\n",
       "\n",
       "    .dataframe thead th {\n",
       "        text-align: right;\n",
       "    }\n",
       "</style>\n",
       "<table border=\"1\" class=\"dataframe\">\n",
       "  <thead>\n",
       "    <tr style=\"text-align: right;\">\n",
       "      <th></th>\n",
       "      <th>Date</th>\n",
       "      <th>Region</th>\n",
       "      <th>Confirmed_Cases</th>\n",
       "      <th>Active_Cases</th>\n",
       "      <th>Cured/Discharged</th>\n",
       "      <th>Death</th>\n",
       "    </tr>\n",
       "    <tr>\n",
       "      <th>S. No.</th>\n",
       "      <th></th>\n",
       "      <th></th>\n",
       "      <th></th>\n",
       "      <th></th>\n",
       "      <th></th>\n",
       "      <th></th>\n",
       "    </tr>\n",
       "  </thead>\n",
       "  <tbody>\n",
       "    <tr>\n",
       "      <th>225</th>\n",
       "      <td>07-07-2020</td>\n",
       "      <td>Andaman and Nicobar Islands</td>\n",
       "      <td>141</td>\n",
       "      <td>67</td>\n",
       "      <td>74.0</td>\n",
       "      <td>0.0</td>\n",
       "    </tr>\n",
       "    <tr>\n",
       "      <th>226</th>\n",
       "      <td>08-07-2020</td>\n",
       "      <td>Andaman and Nicobar Islands</td>\n",
       "      <td>147</td>\n",
       "      <td>72</td>\n",
       "      <td>75.0</td>\n",
       "      <td>0.0</td>\n",
       "    </tr>\n",
       "    <tr>\n",
       "      <th>227</th>\n",
       "      <td>09-07-2020</td>\n",
       "      <td>Andaman and Nicobar Islands</td>\n",
       "      <td>149</td>\n",
       "      <td>72</td>\n",
       "      <td>77.0</td>\n",
       "      <td>0.0</td>\n",
       "    </tr>\n",
       "    <tr>\n",
       "      <th>228</th>\n",
       "      <td>10-07-2020</td>\n",
       "      <td>Andaman and Nicobar Islands</td>\n",
       "      <td>151</td>\n",
       "      <td>68</td>\n",
       "      <td>83.0</td>\n",
       "      <td>0.0</td>\n",
       "    </tr>\n",
       "    <tr>\n",
       "      <th>229</th>\n",
       "      <td>11-07-2020</td>\n",
       "      <td>Andaman and Nicobar Islands</td>\n",
       "      <td>156</td>\n",
       "      <td>64</td>\n",
       "      <td>92.0</td>\n",
       "      <td>0.0</td>\n",
       "    </tr>\n",
       "  </tbody>\n",
       "</table>\n",
       "</div>"
      ],
      "text/plain": [
       "              Date                       Region  Confirmed_Cases  \\\n",
       "S. No.                                                             \n",
       "225     07-07-2020  Andaman and Nicobar Islands              141   \n",
       "226     08-07-2020  Andaman and Nicobar Islands              147   \n",
       "227     09-07-2020  Andaman and Nicobar Islands              149   \n",
       "228     10-07-2020  Andaman and Nicobar Islands              151   \n",
       "229     11-07-2020  Andaman and Nicobar Islands              156   \n",
       "\n",
       "        Active_Cases  Cured/Discharged  Death  \n",
       "S. No.                                         \n",
       "225               67              74.0    0.0  \n",
       "226               72              75.0    0.0  \n",
       "227               72              77.0    0.0  \n",
       "228               68              83.0    0.0  \n",
       "229               64              92.0    0.0  "
      ]
     },
     "execution_count": 1495,
     "metadata": {},
     "output_type": "execute_result"
    }
   ],
   "source": [
    "state_df[0].tail()"
   ]
  },
  {
   "cell_type": "code",
   "execution_count": 1496,
   "metadata": {},
   "outputs": [
    {
     "data": {
      "text/html": [
       "<div>\n",
       "<style scoped>\n",
       "    .dataframe tbody tr th:only-of-type {\n",
       "        vertical-align: middle;\n",
       "    }\n",
       "\n",
       "    .dataframe tbody tr th {\n",
       "        vertical-align: top;\n",
       "    }\n",
       "\n",
       "    .dataframe thead th {\n",
       "        text-align: right;\n",
       "    }\n",
       "</style>\n",
       "<table border=\"1\" class=\"dataframe\">\n",
       "  <thead>\n",
       "    <tr style=\"text-align: right;\">\n",
       "      <th></th>\n",
       "      <th>Date</th>\n",
       "      <th>Region</th>\n",
       "      <th>Confirmed_Cases</th>\n",
       "      <th>Active_Cases</th>\n",
       "      <th>Cured/Discharged</th>\n",
       "      <th>Death</th>\n",
       "    </tr>\n",
       "    <tr>\n",
       "      <th>Date</th>\n",
       "      <th></th>\n",
       "      <th></th>\n",
       "      <th></th>\n",
       "      <th></th>\n",
       "      <th></th>\n",
       "      <th></th>\n",
       "    </tr>\n",
       "  </thead>\n",
       "  <tbody>\n",
       "    <tr>\n",
       "      <th>2020-07-07</th>\n",
       "      <td>07-07-2020</td>\n",
       "      <td>West Bengal</td>\n",
       "      <td>22987</td>\n",
       "      <td>6973</td>\n",
       "      <td>15235.0</td>\n",
       "      <td>779.0</td>\n",
       "    </tr>\n",
       "    <tr>\n",
       "      <th>2020-07-08</th>\n",
       "      <td>08-07-2020</td>\n",
       "      <td>West Bengal</td>\n",
       "      <td>23837</td>\n",
       "      <td>7243</td>\n",
       "      <td>15790.0</td>\n",
       "      <td>804.0</td>\n",
       "    </tr>\n",
       "    <tr>\n",
       "      <th>2020-07-09</th>\n",
       "      <td>09-07-2020</td>\n",
       "      <td>West Bengal</td>\n",
       "      <td>24823</td>\n",
       "      <td>7705</td>\n",
       "      <td>16291.0</td>\n",
       "      <td>827.0</td>\n",
       "    </tr>\n",
       "    <tr>\n",
       "      <th>2020-07-10</th>\n",
       "      <td>10-07-2020</td>\n",
       "      <td>West Bengal</td>\n",
       "      <td>25911</td>\n",
       "      <td>8231</td>\n",
       "      <td>16826.0</td>\n",
       "      <td>854.0</td>\n",
       "    </tr>\n",
       "    <tr>\n",
       "      <th>2020-07-11</th>\n",
       "      <td>11-07-2020</td>\n",
       "      <td>West Bengal</td>\n",
       "      <td>27109</td>\n",
       "      <td>8881</td>\n",
       "      <td>17348.0</td>\n",
       "      <td>880.0</td>\n",
       "    </tr>\n",
       "  </tbody>\n",
       "</table>\n",
       "</div>"
      ],
      "text/plain": [
       "                  Date       Region  Confirmed_Cases  Active_Cases  \\\n",
       "Date                                                                 \n",
       "2020-07-07  07-07-2020  West Bengal            22987          6973   \n",
       "2020-07-08  08-07-2020  West Bengal            23837          7243   \n",
       "2020-07-09  09-07-2020  West Bengal            24823          7705   \n",
       "2020-07-10  10-07-2020  West Bengal            25911          8231   \n",
       "2020-07-11  11-07-2020  West Bengal            27109          8881   \n",
       "\n",
       "            Cured/Discharged  Death  \n",
       "Date                                 \n",
       "2020-07-07           15235.0  779.0  \n",
       "2020-07-08           15790.0  804.0  \n",
       "2020-07-09           16291.0  827.0  \n",
       "2020-07-10           16826.0  854.0  \n",
       "2020-07-11           17348.0  880.0  "
      ]
     },
     "execution_count": 1496,
     "metadata": {},
     "output_type": "execute_result"
    }
   ],
   "source": [
    "region_dict = {}\n",
    "for region in states_df.groups:\n",
    "    region_dict[region] = pd.DataFrame(states_df.get_group(region))\n",
    "    region_dict[region].index = pd.to_datetime(region_dict[region].Date,format='%d-%m-%Y')\n",
    "#     break\n",
    "\n",
    "region_dict[region].tail()"
   ]
  },
  {
   "cell_type": "code",
   "execution_count": null,
   "metadata": {},
   "outputs": [],
   "source": []
  },
  {
   "cell_type": "code",
   "execution_count": null,
   "metadata": {},
   "outputs": [],
   "source": []
  },
  {
   "cell_type": "code",
   "execution_count": null,
   "metadata": {},
   "outputs": [],
   "source": []
  },
  {
   "cell_type": "markdown",
   "metadata": {},
   "source": [
    "Karnataka_df = state_df[0]\n",
    "Karnataka_df.index = pd.to_datetime(Karnataka_df.Date,format='%d-%m-%Y')\n",
    "#Karnataka_df.drop(columns=[\"Date\",\"Region\"], axis=1, inplace=True)\n",
    "Karnataka_df.head()"
   ]
  },
  {
   "cell_type": "markdown",
   "metadata": {},
   "source": [
    "n = 30\n",
    "Karnataka_df.Confirmed_Cases_diff = Karnataka_df.Confirmed_Cases.diff(n)[n:]"
   ]
  },
  {
   "cell_type": "markdown",
   "metadata": {},
   "source": [
    "#initilizing ARIMA model\n",
    "model = ARIMA(Karnataka_df.Confirmed_Cases_diff[:-7], order=(5,1,2))\n",
    "model_fit = model.fit()\n",
    "print(model_fit.aic)"
   ]
  },
  {
   "cell_type": "markdown",
   "metadata": {},
   "source": [
    "#multi-step out-of-sample forecast\n",
    "forecast, std_error, confidence_interval = model_fit.forecast(steps=7)\n",
    "forecast"
   ]
  },
  {
   "cell_type": "markdown",
   "metadata": {},
   "source": [
    "forecasted_difference = pd.DataFrame(Karnataka_df.Confirmed_Cases_diff[-7:])\n",
    "forecasted_difference[\"forecasted\"] = forecast\n",
    "forecasted_difference.tail()"
   ]
  },
  {
   "cell_type": "markdown",
   "metadata": {},
   "source": [
    "plt.plot(forecasted_difference)"
   ]
  },
  {
   "cell_type": "markdown",
   "metadata": {},
   "source": [
    "forecasted_high = pd.DataFrame([i*1.05 for i in forecasted_difference.forecasted], index=Karnataka_df.index[-7:])\n",
    "forecasted_low = pd.DataFrame([i*0.95 for i in forecasted_difference.forecasted], index=Karnataka_df.index[-7:])\n",
    "\n",
    "forecasted_difference[\"forecasted_high\"] = forecasted_high\n",
    "forecasted_difference[\"forecasted_low\"] = forecasted_low"
   ]
  },
  {
   "cell_type": "markdown",
   "metadata": {},
   "source": [
    "forecasted_difference"
   ]
  },
  {
   "cell_type": "markdown",
   "metadata": {},
   "source": [
    "plt.figure(\"Forecast\", figsize=(16,8))\n",
    "plt.plot(forecasted_difference.index, forecasted_difference.Confirmed_Cases)\n",
    "plt.plot(forecasted_difference.index, forecasted_difference.forecasted)\n",
    "plt.plot(forecasted_difference.index, forecasted_difference.forecasted_high, color=\"dimgray\", linestyle=\"--\")\n",
    "plt.plot(forecasted_difference.index, forecasted_difference.forecasted_low, color=\"dimgray\", linestyle=\"--\")\n",
    "plt.legend()"
   ]
  },
  {
   "cell_type": "code",
   "execution_count": null,
   "metadata": {},
   "outputs": [],
   "source": []
  },
  {
   "cell_type": "code",
   "execution_count": 1035,
   "metadata": {},
   "outputs": [],
   "source": [
    "import pandas as pd\n",
    "import numpy as np\n",
    "from statsmodels.tsa.arima_model import ARIMA\n",
    "import matplotlib.pyplot as plt\n",
    "import itertools\n",
    "import warnings\n",
    "warnings.filterwarnings(\"ignore\")\n",
    "\n",
    "import requests\n",
    "from bs4 import BeautifulSoup as bs\n",
    "from datetime import date"
   ]
  },
  {
   "cell_type": "code",
   "execution_count": 1087,
   "metadata": {},
   "outputs": [],
   "source": []
  },
  {
   "cell_type": "code",
   "execution_count": 1140,
   "metadata": {
    "scrolled": true
   },
   "outputs": [],
   "source": []
  },
  {
   "cell_type": "code",
   "execution_count": 1504,
   "metadata": {
    "scrolled": true
   },
   "outputs": [
    {
     "name": "stdout",
     "output_type": "stream",
     "text": [
      "Processing: West Bengal\n",
      "(2, 2, 1)\n",
      "DONE\n"
     ]
    }
   ],
   "source": [
    "def find_best_params(state, pdq):\n",
    "    aic_values = []\n",
    "    for param in pdq:\n",
    "        try:\n",
    "            #initilizing ARIMA model\n",
    "            model = ARIMA(state.Confirmed_Cases_diff[:-7], order=param)\n",
    "            model_fit = model.fit()\n",
    "#             print(param, model_fit.aic)\n",
    "            aic_values.append([param, model_fit.aic])\n",
    "        except:\n",
    "            pass\n",
    "\n",
    "    aic_values = np.array(aic_values)\n",
    "    a = np.where(aic_values == aic_values[:,1].min())[0][0]\n",
    "    return aic_values[a][0]\n",
    "\n",
    "def fit_model():\n",
    "    df = pd.read_csv(\"COVID_Database.csv\")\n",
    "    cols = list(df.columns)\n",
    "    cols = [i.replace(\" \",\"_\") for i in cols]\n",
    "    df.columns = cols\n",
    "\n",
    "    states_df = df.groupby('Region')\n",
    "    state_df = [pd.DataFrame(states_df.get_group(state)) for state in states_df.groups]\n",
    "    \n",
    "    p=range(0,9)\n",
    "    d=range(0,3)\n",
    "    q=range(0,5)\n",
    "    pdq = list(itertools.product(p,d,q))\n",
    "\n",
    "    state_model = {}\n",
    "    for state in state_df[-1:]:\n",
    "\n",
    "        state.index = pd.to_datetime(state.Date,format='%d-%m-%Y')\n",
    "    #     state.drop(columns=[\"Date\",\"Region\"], axis=1, inplace=True)\n",
    "\n",
    "        print(\"Processing:\", state.Region[0])\n",
    "\n",
    "        n = 30\n",
    "        state.Confirmed_Cases_diff = state.Confirmed_Cases.diff(n)[n:]\n",
    "        params = find_best_params(state, pdq)\n",
    "\n",
    "        #initilizing ARIMA model\n",
    "        model = ARIMA(state.Confirmed_Cases_diff[:-7], order=params)\n",
    "        model_fit = model.fit()\n",
    "        print(params)\n",
    "\n",
    "        state_model[str(state.Region[0])] = model_fit\n",
    "\n",
    "    #     break\n",
    "    print(\"DONE\")\n",
    "    return state_model"
   ]
  },
  {
   "cell_type": "markdown",
   "metadata": {},
   "source": [
    "Processing: West Bengal\n",
    "(2, 2, 1)\n",
    "DONE"
   ]
  },
  {
   "cell_type": "code",
   "execution_count": 1184,
   "metadata": {},
   "outputs": [
    {
     "data": {
      "text/plain": [
       "array([ 89.22924553,  96.75052531, 104.37179708, 111.70344735,\n",
       "       119.34391537, 127.23758371, 135.17097145])"
      ]
     },
     "execution_count": 1184,
     "metadata": {},
     "output_type": "execute_result"
    }
   ],
   "source": [
    "model_fit = state_model[\"Andaman and Nicobar Islands\"]\n",
    "# multi-step out-of-sample forecast\n",
    "n = 30\n",
    "state.Confirmed_Cases_diff = state.Confirmed_Cases.diff(n)[n:]\n",
    "\n",
    "n = 7\n",
    "forecast, std_error, confidence_interval = model_fit.forecast(steps=n)\n",
    "forecast"
   ]
  },
  {
   "cell_type": "code",
   "execution_count": 1185,
   "metadata": {},
   "outputs": [],
   "source": [
    "forecasted_difference = pd.DataFrame(index=state_df[0].index[-n:])\n",
    "forecasted_difference[\"Confirmed_Cases\"] = state_df[0].Confirmed_Cases_diff[-n:]\n",
    "forecasted_difference[\"forecasted\"] = forecast\n",
    "\n",
    "forecasted_high = pd.DataFrame([i*1.05 for i in forecasted_difference.forecasted], index=Karnataka_df.index[-n:])\n",
    "forecasted_low = pd.DataFrame([i*0.95 for i in forecasted_difference.forecasted], index=Karnataka_df.index[-n:])\n",
    "\n",
    "forecasted_difference[\"forecasted_high\"] = forecasted_high\n",
    "forecasted_difference[\"forecasted_low\"] = forecasted_low"
   ]
  },
  {
   "cell_type": "code",
   "execution_count": 1186,
   "metadata": {},
   "outputs": [
    {
     "data": {
      "text/plain": [
       "<matplotlib.legend.Legend at 0x1ddcbefdda0>"
      ]
     },
     "execution_count": 1186,
     "metadata": {},
     "output_type": "execute_result"
    },
    {
     "data": {
      "image/png": "[encoded data removed]",
      "text/plain": [
       "<Figure size 1152x576 with 1 Axes>"
      ]
     },
     "metadata": {
      "needs_background": "light"
     },
     "output_type": "display_data"
    }
   ],
   "source": [
    "plt.figure(\"Forecast\", figsize=(16,8))\n",
    "plt.plot(forecasted_difference.index, forecasted_difference.Confirmed_Cases)\n",
    "plt.plot(forecasted_difference.index, forecasted_difference.forecasted)\n",
    "plt.plot(forecasted_difference.index, forecasted_difference.forecasted_high, color=\"dimgray\", linestyle=\"--\")\n",
    "plt.plot(forecasted_difference.index, forecasted_difference.forecasted_low, color=\"dimgray\", linestyle=\"--\")\n",
    "plt.legend()"
   ]
  },
  {
   "cell_type": "code",
   "execution_count": 1187,
   "metadata": {},
   "outputs": [
    {
     "name": "stdout",
     "output_type": "stream",
     "text": [
      "(2, 2, 1) 318.3882016635306\n"
     ]
    }
   ],
   "source": [
    "#initilizing ARIMA model\n",
    "model = ARIMA(state.Confirmed_Cases_diff[:-7], order=params)\n",
    "model_fit = model.fit()\n",
    "print(params, model_fit.aic)"
   ]
  },
  {
   "cell_type": "code",
   "execution_count": 1188,
   "metadata": {},
   "outputs": [
    {
     "data": {
      "text/html": [
       "<div>\n",
       "<style scoped>\n",
       "    .dataframe tbody tr th:only-of-type {\n",
       "        vertical-align: middle;\n",
       "    }\n",
       "\n",
       "    .dataframe tbody tr th {\n",
       "        vertical-align: top;\n",
       "    }\n",
       "\n",
       "    .dataframe thead th {\n",
       "        text-align: right;\n",
       "    }\n",
       "</style>\n",
       "<table border=\"1\" class=\"dataframe\">\n",
       "  <thead>\n",
       "    <tr style=\"text-align: right;\">\n",
       "      <th></th>\n",
       "      <th>Date</th>\n",
       "      <th>Region</th>\n",
       "      <th>Confirmed_Cases</th>\n",
       "      <th>Active_Cases</th>\n",
       "      <th>Cured/Discharged</th>\n",
       "      <th>Death</th>\n",
       "    </tr>\n",
       "    <tr>\n",
       "      <th>Date</th>\n",
       "      <th></th>\n",
       "      <th></th>\n",
       "      <th></th>\n",
       "      <th></th>\n",
       "      <th></th>\n",
       "      <th></th>\n",
       "    </tr>\n",
       "  </thead>\n",
       "  <tbody>\n",
       "    <tr>\n",
       "      <th>2020-07-07</th>\n",
       "      <td>07-07-2020</td>\n",
       "      <td>Andaman and Nicobar Islands</td>\n",
       "      <td>141</td>\n",
       "      <td>67</td>\n",
       "      <td>74.0</td>\n",
       "      <td>0.0</td>\n",
       "    </tr>\n",
       "    <tr>\n",
       "      <th>2020-07-08</th>\n",
       "      <td>08-07-2020</td>\n",
       "      <td>Andaman and Nicobar Islands</td>\n",
       "      <td>147</td>\n",
       "      <td>72</td>\n",
       "      <td>75.0</td>\n",
       "      <td>0.0</td>\n",
       "    </tr>\n",
       "    <tr>\n",
       "      <th>2020-07-09</th>\n",
       "      <td>09-07-2020</td>\n",
       "      <td>Andaman and Nicobar Islands</td>\n",
       "      <td>149</td>\n",
       "      <td>72</td>\n",
       "      <td>77.0</td>\n",
       "      <td>0.0</td>\n",
       "    </tr>\n",
       "    <tr>\n",
       "      <th>2020-07-10</th>\n",
       "      <td>10-07-2020</td>\n",
       "      <td>Andaman and Nicobar Islands</td>\n",
       "      <td>151</td>\n",
       "      <td>68</td>\n",
       "      <td>83.0</td>\n",
       "      <td>0.0</td>\n",
       "    </tr>\n",
       "    <tr>\n",
       "      <th>2020-07-11</th>\n",
       "      <td>11-07-2020</td>\n",
       "      <td>Andaman and Nicobar Islands</td>\n",
       "      <td>156</td>\n",
       "      <td>64</td>\n",
       "      <td>92.0</td>\n",
       "      <td>0.0</td>\n",
       "    </tr>\n",
       "  </tbody>\n",
       "</table>\n",
       "</div>"
      ],
      "text/plain": [
       "                  Date                       Region  Confirmed_Cases  \\\n",
       "Date                                                                   \n",
       "2020-07-07  07-07-2020  Andaman and Nicobar Islands              141   \n",
       "2020-07-08  08-07-2020  Andaman and Nicobar Islands              147   \n",
       "2020-07-09  09-07-2020  Andaman and Nicobar Islands              149   \n",
       "2020-07-10  10-07-2020  Andaman and Nicobar Islands              151   \n",
       "2020-07-11  11-07-2020  Andaman and Nicobar Islands              156   \n",
       "\n",
       "            Active_Cases  Cured/Discharged  Death  \n",
       "Date                                               \n",
       "2020-07-07            67              74.0    0.0  \n",
       "2020-07-08            72              75.0    0.0  \n",
       "2020-07-09            72              77.0    0.0  \n",
       "2020-07-10            68              83.0    0.0  \n",
       "2020-07-11            64              92.0    0.0  "
      ]
     },
     "execution_count": 1188,
     "metadata": {},
     "output_type": "execute_result"
    }
   ],
   "source": [
    "state_df[0].tail()"
   ]
  },
  {
   "cell_type": "code",
   "execution_count": 1189,
   "metadata": {},
   "outputs": [
    {
     "data": {
      "text/html": [
       "<div>\n",
       "<style scoped>\n",
       "    .dataframe tbody tr th:only-of-type {\n",
       "        vertical-align: middle;\n",
       "    }\n",
       "\n",
       "    .dataframe tbody tr th {\n",
       "        vertical-align: top;\n",
       "    }\n",
       "\n",
       "    .dataframe thead th {\n",
       "        text-align: right;\n",
       "    }\n",
       "</style>\n",
       "<table border=\"1\" class=\"dataframe\">\n",
       "  <thead>\n",
       "    <tr style=\"text-align: right;\">\n",
       "      <th></th>\n",
       "      <th>Confirmed_Cases</th>\n",
       "      <th>forecasted</th>\n",
       "      <th>forecasted_high</th>\n",
       "      <th>forecasted_low</th>\n",
       "    </tr>\n",
       "    <tr>\n",
       "      <th>Date</th>\n",
       "      <th></th>\n",
       "      <th></th>\n",
       "      <th></th>\n",
       "      <th></th>\n",
       "    </tr>\n",
       "  </thead>\n",
       "  <tbody>\n",
       "    <tr>\n",
       "      <th>2020-07-05</th>\n",
       "      <td>86.0</td>\n",
       "      <td>89.229246</td>\n",
       "      <td>93.690708</td>\n",
       "      <td>84.767783</td>\n",
       "    </tr>\n",
       "    <tr>\n",
       "      <th>2020-07-06</th>\n",
       "      <td>92.0</td>\n",
       "      <td>96.750525</td>\n",
       "      <td>101.588052</td>\n",
       "      <td>91.912999</td>\n",
       "    </tr>\n",
       "    <tr>\n",
       "      <th>2020-07-07</th>\n",
       "      <td>108.0</td>\n",
       "      <td>104.371797</td>\n",
       "      <td>109.590387</td>\n",
       "      <td>99.153207</td>\n",
       "    </tr>\n",
       "    <tr>\n",
       "      <th>2020-07-08</th>\n",
       "      <td>114.0</td>\n",
       "      <td>111.703447</td>\n",
       "      <td>117.288620</td>\n",
       "      <td>106.118275</td>\n",
       "    </tr>\n",
       "    <tr>\n",
       "      <th>2020-07-09</th>\n",
       "      <td>116.0</td>\n",
       "      <td>119.343915</td>\n",
       "      <td>125.311111</td>\n",
       "      <td>113.376720</td>\n",
       "    </tr>\n",
       "    <tr>\n",
       "      <th>2020-07-10</th>\n",
       "      <td>118.0</td>\n",
       "      <td>127.237584</td>\n",
       "      <td>133.599463</td>\n",
       "      <td>120.875705</td>\n",
       "    </tr>\n",
       "    <tr>\n",
       "      <th>2020-07-11</th>\n",
       "      <td>122.0</td>\n",
       "      <td>135.170971</td>\n",
       "      <td>141.929520</td>\n",
       "      <td>128.412423</td>\n",
       "    </tr>\n",
       "  </tbody>\n",
       "</table>\n",
       "</div>"
      ],
      "text/plain": [
       "            Confirmed_Cases  forecasted  forecasted_high  forecasted_low\n",
       "Date                                                                    \n",
       "2020-07-05             86.0   89.229246        93.690708       84.767783\n",
       "2020-07-06             92.0   96.750525       101.588052       91.912999\n",
       "2020-07-07            108.0  104.371797       109.590387       99.153207\n",
       "2020-07-08            114.0  111.703447       117.288620      106.118275\n",
       "2020-07-09            116.0  119.343915       125.311111      113.376720\n",
       "2020-07-10            118.0  127.237584       133.599463      120.875705\n",
       "2020-07-11            122.0  135.170971       141.929520      128.412423"
      ]
     },
     "execution_count": 1189,
     "metadata": {},
     "output_type": "execute_result"
    }
   ],
   "source": [
    "forecasted_difference"
   ]
  },
  {
   "cell_type": "code",
   "execution_count": null,
   "metadata": {},
   "outputs": [],
   "source": []
  },
  {
   "cell_type": "code",
   "execution_count": 1216,
   "metadata": {},
   "outputs": [
    {
     "data": {
      "text/plain": [
       "array([158.16953414, 164.5808215 , 169.03920599, 174.16060901,\n",
       "       180.02683723, 185.55293062, 190.87451748])"
      ]
     },
     "execution_count": 1216,
     "metadata": {},
     "output_type": "execute_result"
    }
   ],
   "source": [
    "model_fit = state_model[\"Andaman and Nicobar Islands\"]\n",
    "# multi-step out-of-sample forecast\n",
    "n = 30\n",
    "state.Confirmed_Cases_diff = state.Confirmed_Cases#.diff(n)[n:]\n",
    "\n",
    "n = 7\n",
    "#initilizing ARIMA model\n",
    "model = ARIMA(state.Confirmed_Cases_diff[:-1], order=(2,2,1))\n",
    "model_fit = model.fit()\n",
    "forecast, std_error, confidence_interval = model_fit.forecast(steps=n)\n",
    "forecast"
   ]
  },
  {
   "cell_type": "code",
   "execution_count": 1217,
   "metadata": {},
   "outputs": [
    {
     "data": {
      "text/html": [
       "<div>\n",
       "<style scoped>\n",
       "    .dataframe tbody tr th:only-of-type {\n",
       "        vertical-align: middle;\n",
       "    }\n",
       "\n",
       "    .dataframe tbody tr th {\n",
       "        vertical-align: top;\n",
       "    }\n",
       "\n",
       "    .dataframe thead th {\n",
       "        text-align: right;\n",
       "    }\n",
       "</style>\n",
       "<table border=\"1\" class=\"dataframe\">\n",
       "  <thead>\n",
       "    <tr style=\"text-align: right;\">\n",
       "      <th></th>\n",
       "      <th>forecast</th>\n",
       "    </tr>\n",
       "  </thead>\n",
       "  <tbody>\n",
       "    <tr>\n",
       "      <th>2020-07-11</th>\n",
       "      <td>158.169534</td>\n",
       "    </tr>\n",
       "    <tr>\n",
       "      <th>2020-07-12</th>\n",
       "      <td>164.580822</td>\n",
       "    </tr>\n",
       "    <tr>\n",
       "      <th>2020-07-13</th>\n",
       "      <td>169.039206</td>\n",
       "    </tr>\n",
       "    <tr>\n",
       "      <th>2020-07-14</th>\n",
       "      <td>174.160609</td>\n",
       "    </tr>\n",
       "    <tr>\n",
       "      <th>2020-07-15</th>\n",
       "      <td>180.026837</td>\n",
       "    </tr>\n",
       "  </tbody>\n",
       "</table>\n",
       "</div>"
      ],
      "text/plain": [
       "              forecast\n",
       "2020-07-11  158.169534\n",
       "2020-07-12  164.580822\n",
       "2020-07-13  169.039206\n",
       "2020-07-14  174.160609\n",
       "2020-07-15  180.026837"
      ]
     },
     "execution_count": 1217,
     "metadata": {},
     "output_type": "execute_result"
    }
   ],
   "source": [
    "forecasted_df = pd.DataFrame(forecast, columns=[\"forecast\"])\n",
    "forecasted_df.index = pd.date_range(start='2020-07-11', periods=7)\n",
    "forecasted_df.head()"
   ]
  },
  {
   "cell_type": "code",
   "execution_count": null,
   "metadata": {},
   "outputs": [],
   "source": []
  },
  {
   "cell_type": "code",
   "execution_count": 1220,
   "metadata": {},
   "outputs": [],
   "source": []
  },
  {
   "cell_type": "code",
   "execution_count": 1292,
   "metadata": {},
   "outputs": [],
   "source": []
  },
  {
   "cell_type": "code",
   "execution_count": 1595,
   "metadata": {},
   "outputs": [],
   "source": [
    "def update_database(region_dict):\n",
    "    res = requests.get(\"https://prsindia.org/covid-19/cases\")\n",
    "    soup = bs(res.content,'lxml')\n",
    "    table = soup.find_all('table')[0] \n",
    "    df = pd.read_html(str(table))[0]\n",
    "    df.drop(columns=[\"#\"], inplace=True)\n",
    "    cols = list(df.columns)\n",
    "    cols[0] = \"Region\"\n",
    "    cols = [i.replace(\" \",\"_\") for i in cols]\n",
    "    df.columns = cols\n",
    "    df[\"Date\"] = [date.today().strftime('%Y-%m-%d') for i in range(len(df))]\n",
    "    df.index = pd.to_datetime(df.Date,format='%Y-%m-%d')\n",
    "    for i,region in enumerate(region_dict):\n",
    "        region_dict[region] = region_dict[region].append(df[df.Region == region], sort=False, ignore_index=True)\n",
    "        try:\n",
    "            region_dict[region].index = pd.to_datetime(region_dict[region].Date,format='%d-%m-%Y')\n",
    "        except:\n",
    "            region_dict[region].index = pd.to_datetime(region_dict[region].Date,format='%Y-%m-%d')\n",
    "        \n",
    "    return region_dict"
   ]
  },
  {
   "cell_type": "code",
   "execution_count": 1489,
   "metadata": {},
   "outputs": [],
   "source": [
    "update_database(region_dict)"
   ]
  },
  {
   "cell_type": "code",
   "execution_count": 1490,
   "metadata": {},
   "outputs": [
    {
     "data": {
      "text/html": [
       "<div>\n",
       "<style scoped>\n",
       "    .dataframe tbody tr th:only-of-type {\n",
       "        vertical-align: middle;\n",
       "    }\n",
       "\n",
       "    .dataframe tbody tr th {\n",
       "        vertical-align: top;\n",
       "    }\n",
       "\n",
       "    .dataframe thead th {\n",
       "        text-align: right;\n",
       "    }\n",
       "</style>\n",
       "<table border=\"1\" class=\"dataframe\">\n",
       "  <thead>\n",
       "    <tr style=\"text-align: right;\">\n",
       "      <th></th>\n",
       "      <th>Date</th>\n",
       "      <th>Region</th>\n",
       "      <th>Confirmed_Cases</th>\n",
       "      <th>Active_Cases</th>\n",
       "      <th>Cured/Discharged</th>\n",
       "      <th>Death</th>\n",
       "    </tr>\n",
       "    <tr>\n",
       "      <th>Date</th>\n",
       "      <th></th>\n",
       "      <th></th>\n",
       "      <th></th>\n",
       "      <th></th>\n",
       "      <th></th>\n",
       "      <th></th>\n",
       "    </tr>\n",
       "  </thead>\n",
       "  <tbody>\n",
       "    <tr>\n",
       "      <th>2020-07-08</th>\n",
       "      <td>08-07-2020</td>\n",
       "      <td>West Bengal</td>\n",
       "      <td>23837</td>\n",
       "      <td>7243</td>\n",
       "      <td>15790.0</td>\n",
       "      <td>804.0</td>\n",
       "    </tr>\n",
       "    <tr>\n",
       "      <th>2020-07-09</th>\n",
       "      <td>09-07-2020</td>\n",
       "      <td>West Bengal</td>\n",
       "      <td>24823</td>\n",
       "      <td>7705</td>\n",
       "      <td>16291.0</td>\n",
       "      <td>827.0</td>\n",
       "    </tr>\n",
       "    <tr>\n",
       "      <th>2020-07-10</th>\n",
       "      <td>10-07-2020</td>\n",
       "      <td>West Bengal</td>\n",
       "      <td>25911</td>\n",
       "      <td>8231</td>\n",
       "      <td>16826.0</td>\n",
       "      <td>854.0</td>\n",
       "    </tr>\n",
       "    <tr>\n",
       "      <th>2020-07-11</th>\n",
       "      <td>11-07-2020</td>\n",
       "      <td>West Bengal</td>\n",
       "      <td>27109</td>\n",
       "      <td>8881</td>\n",
       "      <td>17348.0</td>\n",
       "      <td>880.0</td>\n",
       "    </tr>\n",
       "    <tr>\n",
       "      <th>2020-07-13</th>\n",
       "      <td>13-07-2020</td>\n",
       "      <td>West Bengal</td>\n",
       "      <td>30013</td>\n",
       "      <td>10500</td>\n",
       "      <td>18581.0</td>\n",
       "      <td>932.0</td>\n",
       "    </tr>\n",
       "  </tbody>\n",
       "</table>\n",
       "</div>"
      ],
      "text/plain": [
       "                  Date       Region  Confirmed_Cases  Active_Cases  \\\n",
       "Date                                                                 \n",
       "2020-07-08  08-07-2020  West Bengal            23837          7243   \n",
       "2020-07-09  09-07-2020  West Bengal            24823          7705   \n",
       "2020-07-10  10-07-2020  West Bengal            25911          8231   \n",
       "2020-07-11  11-07-2020  West Bengal            27109          8881   \n",
       "2020-07-13  13-07-2020  West Bengal            30013         10500   \n",
       "\n",
       "            Cured/Discharged  Death  \n",
       "Date                                 \n",
       "2020-07-08           15790.0  804.0  \n",
       "2020-07-09           16291.0  827.0  \n",
       "2020-07-10           16826.0  854.0  \n",
       "2020-07-11           17348.0  880.0  \n",
       "2020-07-13           18581.0  932.0  "
      ]
     },
     "execution_count": 1490,
     "metadata": {},
     "output_type": "execute_result"
    }
   ],
   "source": [
    "region_dict[region].tail()"
   ]
  },
  {
   "cell_type": "code",
   "execution_count": null,
   "metadata": {},
   "outputs": [],
   "source": []
  },
  {
   "cell_type": "code",
   "execution_count": null,
   "metadata": {},
   "outputs": [],
   "source": []
  },
  {
   "cell_type": "markdown",
   "metadata": {},
   "source": [
    "def parser(d):\n",
    "    return datetime.strptime(d, '%d/%m/%Y')"
   ]
  },
  {
   "cell_type": "markdown",
   "metadata": {},
   "source": [
    "df = pd.read_csv(r\"C:\\Users\\Tejas\\Downloads\\COVID-19 Cases(13-07-2020).csv\", index_col=\"S. No.\", parse_dates=[\"Date\"], date_parser=parser)\n",
    "cols = list(df.columns)\n",
    "cols = [i.replace(\" \",\"_\") for i in cols]\n",
    "df.columns = cols\n",
    "df.head()"
   ]
  },
  {
   "cell_type": "markdown",
   "metadata": {},
   "source": [
    "df.dropna(inplace=True)\n",
    "df.info()"
   ]
  },
  {
   "cell_type": "markdown",
   "metadata": {},
   "source": [
    "all_states_df = df[124:4095]\n",
    "all_states_df.tail()"
   ]
  },
  {
   "cell_type": "markdown",
   "metadata": {},
   "source": [
    "states_df = all_states_df.groupby('Region')\n",
    "state_df = [pd.DataFrame(states_df.get_group(state)) for state in states_df.groups]"
   ]
  },
  {
   "cell_type": "markdown",
   "metadata": {},
   "source": [
    "state_df[0].tail()"
   ]
  },
  {
   "cell_type": "code",
   "execution_count": null,
   "metadata": {},
   "outputs": [],
   "source": []
  },
  {
   "cell_type": "code",
   "execution_count": 1642,
   "metadata": {},
   "outputs": [
    {
     "data": {
      "text/html": [
       "<div>\n",
       "<style scoped>\n",
       "    .dataframe tbody tr th:only-of-type {\n",
       "        vertical-align: middle;\n",
       "    }\n",
       "\n",
       "    .dataframe tbody tr th {\n",
       "        vertical-align: top;\n",
       "    }\n",
       "\n",
       "    .dataframe thead th {\n",
       "        text-align: right;\n",
       "    }\n",
       "</style>\n",
       "<table border=\"1\" class=\"dataframe\">\n",
       "  <thead>\n",
       "    <tr style=\"text-align: right;\">\n",
       "      <th></th>\n",
       "      <th>Date</th>\n",
       "      <th>Region</th>\n",
       "      <th>Confirmed_Cases</th>\n",
       "      <th>Active_Cases</th>\n",
       "      <th>Cured/Discharged</th>\n",
       "      <th>Death</th>\n",
       "    </tr>\n",
       "  </thead>\n",
       "  <tbody>\n",
       "    <tr>\n",
       "      <th>3966</th>\n",
       "      <td>2020-07-09</td>\n",
       "      <td>West Bengal</td>\n",
       "      <td>24823</td>\n",
       "      <td>7705</td>\n",
       "      <td>16291.0</td>\n",
       "      <td>827.0</td>\n",
       "    </tr>\n",
       "    <tr>\n",
       "      <th>3967</th>\n",
       "      <td>2020-07-10</td>\n",
       "      <td>West Bengal</td>\n",
       "      <td>25911</td>\n",
       "      <td>8231</td>\n",
       "      <td>16826.0</td>\n",
       "      <td>854.0</td>\n",
       "    </tr>\n",
       "    <tr>\n",
       "      <th>3968</th>\n",
       "      <td>2020-07-11</td>\n",
       "      <td>West Bengal</td>\n",
       "      <td>27109</td>\n",
       "      <td>8881</td>\n",
       "      <td>17348.0</td>\n",
       "      <td>880.0</td>\n",
       "    </tr>\n",
       "    <tr>\n",
       "      <th>3969</th>\n",
       "      <td>2020-07-12</td>\n",
       "      <td>West Bengal</td>\n",
       "      <td>28453</td>\n",
       "      <td>9588</td>\n",
       "      <td>17959.0</td>\n",
       "      <td>906.0</td>\n",
       "    </tr>\n",
       "    <tr>\n",
       "      <th>3970</th>\n",
       "      <td>2020-07-13</td>\n",
       "      <td>West Bengal</td>\n",
       "      <td>30013</td>\n",
       "      <td>10500</td>\n",
       "      <td>18581.0</td>\n",
       "      <td>932.0</td>\n",
       "    </tr>\n",
       "  </tbody>\n",
       "</table>\n",
       "</div>"
      ],
      "text/plain": [
       "            Date       Region  Confirmed_Cases  Active_Cases  \\\n",
       "3966  2020-07-09  West Bengal            24823          7705   \n",
       "3967  2020-07-10  West Bengal            25911          8231   \n",
       "3968  2020-07-11  West Bengal            27109          8881   \n",
       "3969  2020-07-12  West Bengal            28453          9588   \n",
       "3970  2020-07-13  West Bengal            30013         10500   \n",
       "\n",
       "      Cured/Discharged  Death  \n",
       "3966           16291.0  827.0  \n",
       "3967           16826.0  854.0  \n",
       "3968           17348.0  880.0  \n",
       "3969           17959.0  906.0  \n",
       "3970           18581.0  932.0  "
      ]
     },
     "execution_count": 1642,
     "metadata": {},
     "output_type": "execute_result"
    }
   ],
   "source": []
  },
  {
   "cell_type": "code",
   "execution_count": 1643,
   "metadata": {},
   "outputs": [],
   "source": []
  },
  {
   "cell_type": "code",
   "execution_count": null,
   "metadata": {},
   "outputs": [],
   "source": []
  },
  {
   "cell_type": "code",
   "execution_count": null,
   "metadata": {},
   "outputs": [],
   "source": []
  },
  {
   "cell_type": "code",
   "execution_count": null,
   "metadata": {},
   "outputs": [],
   "source": []
  },
  {
   "cell_type": "code",
   "execution_count": null,
   "metadata": {},
   "outputs": [],
   "source": []
  },
  {
   "cell_type": "code",
   "execution_count": null,
   "metadata": {},
   "outputs": [],
   "source": []
  },
  {
   "cell_type": "code",
   "execution_count": null,
   "metadata": {},
   "outputs": [],
   "source": []
  },
  {
   "cell_type": "code",
   "execution_count": 210,
   "metadata": {},
   "outputs": [
    {
     "name": "stdout",
     "output_type": "stream",
     "text": [
      "Overwriting Update_Database.py\n"
     ]
    }
   ],
   "source": [
    "%%writefile \"Update_Database.py\"\n",
    "\n",
    "import pandas as pd\n",
    "import numpy as np\n",
    "# from statsmodels.tsa.arima_model import ARIMA\n",
    "# import matplotlib.pyplot as plt\n",
    "# import itertools\n",
    "import warnings\n",
    "warnings.filterwarnings(\"ignore\")\n",
    "\n",
    "import requests\n",
    "from bs4 import BeautifulSoup as bs\n",
    "from datetime import date\n",
    "\n",
    "def update(region_dict):\n",
    "    res = requests.get(\"https://prsindia.org/covid-19/cases\")\n",
    "    soup = bs(res.content,'lxml')\n",
    "    table = soup.find_all('table')[0] \n",
    "    df = pd.read_html(str(table))[0]\n",
    "    df.drop(columns=[\"#\"], inplace=True)\n",
    "    cols = list(df.columns)\n",
    "    cols[0] = \"Region\"\n",
    "    cols = [i.replace(\" \",\"_\") for i in cols]\n",
    "    df.columns = cols\n",
    "    df[\"Date\"] = [date.today().strftime('%Y-%m-%d') for i in range(len(df))]\n",
    "    df.index = pd.to_datetime(df.Date,format='%Y-%m-%d')\n",
    "    for i,region in enumerate(region_dict):\n",
    "        region_dict[region] = region_dict[region].append(df[df.Region == region], sort=False, ignore_index=True)\n",
    "        try:\n",
    "            region_dict[region].index = pd.to_datetime(region_dict[region].Date,format='%d-%m-%Y')\n",
    "        except:\n",
    "            region_dict[region].index = pd.to_datetime(region_dict[region].Date,format='%Y-%m-%d')\n",
    "        \n",
    "    return region_dict\n",
    "\n",
    "def update_database():\n",
    "    \n",
    "    df = pd.read_csv(\"COVID_Database.csv\")\n",
    "    cols = list(df.columns)\n",
    "    cols = [i.replace(\" \",\"_\") for i in cols]\n",
    "    df.columns = cols\n",
    "\n",
    "    states_df = df.groupby('Region')\n",
    "    state_df = [pd.DataFrame(states_df.get_group(state)) for state in states_df.groups]\n",
    "\n",
    "    region_dict = {}\n",
    "    for region in states_df.groups:\n",
    "        region_dict[region] = pd.DataFrame(states_df.get_group(region))\n",
    "        try:\n",
    "            region_dict[region].index = pd.to_datetime(region_dict[region].Date,format='%Y-%m-%d')\n",
    "        except:\n",
    "            region_dict[region].index = pd.to_datetime(region_dict[region].Date,format='%d-%m-%Y')\n",
    "\n",
    "        region_dict = update(region_dict)\n",
    "    #     break\n",
    "\n",
    "    df = pd.DataFrame()\n",
    "    for region in region_dict.keys():\n",
    "        df = df.append(region_dict[region], sort=False, ignore_index=True)\n",
    "\n",
    "    cols = list(df.columns)\n",
    "    cols = [i.replace(\" \",\"_\") for i in cols]\n",
    "    df.columns = cols\n",
    "    df.drop_duplicates(inplace=True)\n",
    "    \n",
    "    df.to_csv(\"COVID_Database.csv\", index=False)\n",
    "    \n",
    "    return \"Database Updated\""
   ]
  },
  {
   "cell_type": "code",
   "execution_count": 4,
   "metadata": {},
   "outputs": [],
   "source": [
    "from Update_Database import update_database"
   ]
  },
  {
   "cell_type": "code",
   "execution_count": 3,
   "metadata": {},
   "outputs": [
    {
     "data": {
      "text/plain": [
       "'Database Updated'"
      ]
     },
     "execution_count": 3,
     "metadata": {},
     "output_type": "execute_result"
    }
   ],
   "source": [
    "update_database()"
   ]
  },
  {
   "cell_type": "code",
   "execution_count": null,
   "metadata": {},
   "outputs": [],
   "source": []
  },
  {
   "cell_type": "code",
   "execution_count": 250,
   "metadata": {},
   "outputs": [
    {
     "name": "stdout",
     "output_type": "stream",
     "text": [
      "Overwriting main_app.py\n"
     ]
    }
   ],
   "source": [
    "%%writefile \"main_app.py\"\n",
    "\n",
    "import pandas as pd\n",
    "import numpy as np\n",
    "from statsmodels.tsa.arima_model import ARIMA\n",
    "import matplotlib.pyplot as plt\n",
    "import itertools\n",
    "import warnings\n",
    "warnings.filterwarnings(\"ignore\")\n",
    "\n",
    "import requests\n",
    "from bs4 import BeautifulSoup as bs\n",
    "from datetime import date, timedelta\n",
    "import joblib\n",
    "\n",
    "\n",
    "def get_previous_cases(region):\n",
    "    df = pd.read_csv(\"COVID_Database.csv\")\n",
    "    df.index = df.Date\n",
    "    try:\n",
    "        yesterday = df.Confirmed_Cases[df.Region==region][str(date.today()-timedelta(1))]\n",
    "        today = df.Confirmed_Cases[df.Region==region][str(date.today())]\n",
    "        as_on = str(date.today())\n",
    "    except:\n",
    "        yesterday = df.Confirmed_Cases[df.Region==region][-2]\n",
    "        today = df.Confirmed_Cases[df.Region==region][-1]\n",
    "        as_on = df.Date[df.Region==region][-1]\n",
    "        \n",
    "    del df\n",
    "    return today, yesterday, as_on\n",
    "\n",
    "def find_best_params(state, pdq):\n",
    "    aic_values = []\n",
    "    for param in pdq:\n",
    "        try:\n",
    "            #initilizing ARIMA model\n",
    "            model = ARIMA(state.Confirmed_Cases_diff[:-2], order=param)\n",
    "            model_fit = model.fit()\n",
    "#             print(param, model_fit.aic)\n",
    "            aic_values.append([param, model_fit.aic])\n",
    "        except:\n",
    "            pass\n",
    "\n",
    "    aic_values = np.array(aic_values)\n",
    "    a = np.where(aic_values == aic_values[:,1].min())[0][0]\n",
    "    return aic_values[a][0]\n",
    "\n",
    "def fit_model():\n",
    "    df = pd.read_csv(\"COVID_Database.csv\")\n",
    "    cols = list(df.columns)\n",
    "    cols = [i.replace(\" \",\"_\") for i in cols]\n",
    "    df.columns = cols\n",
    "\n",
    "    states_df = df.groupby('Region')\n",
    "    state_df = [pd.DataFrame(states_df.get_group(state)) for state in states_df.groups]\n",
    "    \n",
    "    p=range(0,9)\n",
    "    d=range(0,3)\n",
    "    q=range(0,5)\n",
    "    pdq = list(itertools.product(p,d,q))\n",
    "\n",
    "    state_model = {}\n",
    "    for state in state_df[:]:\n",
    "\n",
    "        state.index = pd.to_datetime(state.Date,format='%Y-%m-%d')\n",
    "    #     state.drop(columns=[\"Date\",\"Region\"], axis=1, inplace=True)\n",
    "\n",
    "        print(\"Processing:\", state.Region[0])\n",
    "\n",
    "        state.Confirmed_Cases_diff = state.Confirmed_Cases\n",
    "        params = find_best_params(state, pdq)\n",
    "\n",
    "        #initilizing ARIMA model\n",
    "        model = ARIMA(state.Confirmed_Cases_diff[:-2], order=params)\n",
    "        model_fit = model.fit()\n",
    "#         print(params)\n",
    "\n",
    "        state_model[str(state.Region[0])] = model_fit\n",
    "\n",
    "#         break\n",
    "\n",
    "    for region in state_model.keys():\n",
    "        joblib.dump(state_model[region], region+\".ml\")\n",
    "        \n",
    "#     print(\"DONE\")\n",
    "    return \"DONE\"\n",
    "\n",
    "def forecast_cases(region, n=7):\n",
    "    \n",
    "    model_fit = joblib.load(region+\".ml\")\n",
    "    # multi-step out-of-sample forecast\n",
    "    forecast, std_error, confidence_interval = model_fit.forecast(steps=n)\n",
    "    forecast = [round(cases) for cases in forecast]\n",
    "    return forecast"
   ]
  },
  {
   "cell_type": "code",
   "execution_count": 506,
   "metadata": {},
   "outputs": [],
   "source": [
    "import time\n",
    "# from sklearn.externals import joblib\n",
    "import joblib\n",
    "\n",
    "from main_app import fit_model"
   ]
  },
  {
   "cell_type": "code",
   "execution_count": null,
   "metadata": {},
   "outputs": [
    {
     "name": "stdout",
     "output_type": "stream",
     "text": [
      "Processing: Andaman and Nicobar Islands\n",
      "Processing: Andhra Pradesh\n"
     ]
    }
   ],
   "source": [
    "start = time.time()\n",
    "fit_model()\n",
    "end = time.time()\n",
    "print(\"Time Taken: {}s\".format(end-start))"
   ]
  },
  {
   "cell_type": "code",
   "execution_count": null,
   "metadata": {},
   "outputs": [],
   "source": []
  },
  {
   "cell_type": "code",
   "execution_count": null,
   "metadata": {},
   "outputs": [],
   "source": [
    "def get_previous_cases():\n",
    "    df = pd.read_csv(\"COVID_Database.csv\")\n",
    "    yesterday = df.Confirmed_Cases.loc[date.today()-timedelta(1)]\n",
    "    today = df.Confirmed_Cases.loc[date.today()]\n",
    "    return today, yesterday"
   ]
  },
  {
   "cell_type": "code",
   "execution_count": 258,
   "metadata": {},
   "outputs": [
    {
     "name": "stdout",
     "output_type": "stream",
     "text": [
      "Overwriting app.py\n"
     ]
    }
   ],
   "source": [
    "%%writefile \"app.py\"\n",
    "from main_app import fit_model, forecast_cases, get_previous_cases\n",
    "from Update_Database import update_database\n",
    "from datetime import date, timedelta\n",
    "from datetime import datetime as d\n",
    "from pandas import date_range\n",
    "import flask\n",
    "from flask import request\n",
    "app = flask.Flask(__name__)\n",
    "app.config[\"DEBUG\"] = True\n",
    "from flask_cors import CORS\n",
    "\n",
    "def result_to_html(result, region):\n",
    "    today, yesterday, as_on = get_previous_cases(region)\n",
    "    as_on = d.strptime('2020-07-15', \"%Y-%m-%d\").date()\n",
    "    res='<h2> COVID-19 Forecasts For {}</h2>\\n'.format(region)\n",
    "    res+='<table>\\n'\n",
    "    yesterday_d = (as_on-timedelta(days=1)).strftime('%Y-%m-%d')\n",
    "    dates = date_range(yesterday_d, periods=7).strftime('%Y-%m-%d')\n",
    "    result = zip(dates,result)\n",
    "    res+='<thead>\\n'\n",
    "    res+='<tr><th><h2> Date ::</h2></th><th><h2>Predicted No. of Cases</h2></th></tr>\\n'\n",
    "    res+='</thead>\\n'\n",
    "    res+='<tbody>'\n",
    "    for row in result:\n",
    "        res+='<tr><td><h2>&nbsp;&nbsp;&nbsp;&nbsp;{} :</h2></td><td><h2>{} &#177; &nbsp; 5%</h2></td></tr>\\n'.format(row[0],row[1])\n",
    "    res+='</tbody>'\n",
    "    res+='</table>\\n\\n'\n",
    "    res+='<h3>Confirmed Cases as of Yesterday : {}</h3>\\n'.format(yesterday)\n",
    "    res+='<h3>Confirmed Cases as of Today : {}</h3>\\n'.format(today)\n",
    "    res+='<h3>As on : {}</h3>\\n'.format(as_on)\n",
    "    res+='<h3>Data Source Used for Training: <a href=\"https://prsindia.org/covid-19/cases\">Visit prsindia.org</a></h3>'\n",
    "    return res\n",
    "\n",
    "CORS(app)\n",
    "\n",
    "# main index page route\n",
    "@app.route('/')\n",
    "def home():\n",
    "    return '<h1>API is working.. </h1>'\n",
    "\n",
    "\n",
    "@app.route('/forecast',methods=['GET'])\n",
    "def forecast():\n",
    "    region = str(request.args[\"region\"])\n",
    "    forecast = forecast_cases(region)\n",
    "    \n",
    "    return result_to_html(forecast, region)\n",
    "\n",
    "@app.route('/update')\n",
    "def update():\n",
    "    update_database()\n",
    "    \n",
    "    return \"Database Updated\"\n",
    "\n",
    "@app.route('/train')\n",
    "def train():\n",
    "    fit_model()\n",
    "    \n",
    "    return \"Database Updated\"\n",
    "\n",
    "\n",
    "if __name__ == \"__main__\":\n",
    "    app.run(debug=True, port='9000',host='0.0.0.0')\n"
   ]
  },
  {
   "cell_type": "code",
   "execution_count": null,
   "metadata": {},
   "outputs": [],
   "source": [
    "def html_table(string):\n",
    "    print '<table>'\n",
    "    for sublist in lol:\n",
    "        print '  <tr><td>'\n",
    "        print '    </td><td>'.join(sublist)\n",
    "        print '  </td></tr>'\n",
    "    print '</table>'"
   ]
  },
  {
   "cell_type": "code",
   "execution_count": 95,
   "metadata": {},
   "outputs": [],
   "source": [
    "def result_to_html(result):\n",
    "    res='<table>\\n'\n",
    "    yesterday = (date.today()-timedelta(days=1)).strftime('%Y-%m-%d')\n",
    "    dates = date_range(yesterday, periods=7).strftime('%Y-%m-%d')\n",
    "    result = zip(dates,result)\n",
    "    res+='<thead>\\n'\n",
    "    res+='<tr><th><h2>Date</h2></th><th><h2>{}</h2><h2>Predicted No. of Cases</h2></th></tr>\\n'.format(\" \")\n",
    "    res+='</thead>\\n'\n",
    "    res+='<tbody>'\n",
    "    for row in result:\n",
    "        res+='<tr><td><h2>{}</h2></td><td><h2>{}</h2></td><td><h2>{}</h2></td></tr>\\n'.format(row[0],\" : \",row[1])\n",
    "    res+='</tbody>'\n",
    "    res+='</table>\\n'\n",
    "    return res"
   ]
  },
  {
   "cell_type": "code",
   "execution_count": 87,
   "metadata": {},
   "outputs": [],
   "source": [
    "def result_to_html(result):\n",
    "    res = []\n",
    "    res.append('<table>')\n",
    "    yesterday = (date.today()-timedelta(days=1)).strftime('%Y-%m-%d')\n",
    "    dates = pd.date_range(yesterday, periods=7).strftime('%Y-%m-%d')\n",
    "    result = zip(dates,result)\n",
    "    for row in result:\n",
    "        res.append('<tr><td><h1>{}</h1></td><td><h1>{}</h1></td><td><h1>{}</h1></td></tr>'.format(row[0],\" : \",row[1]))\n",
    "    res.append('</table>')\n",
    "    return res"
   ]
  },
  {
   "cell_type": "code",
   "execution_count": 88,
   "metadata": {},
   "outputs": [
    {
     "name": "stdout",
     "output_type": "stream",
     "text": [
      "['<table>', '<tr><td><h1>2020-07-14</h1></td><td><h1> : </h1></td><td><h1>a</h1></td></tr>', '<tr><td><h1>2020-07-15</h1></td><td><h1> : </h1></td><td><h1>b</h1></td></tr>', '<tr><td><h1>2020-07-16</h1></td><td><h1> : </h1></td><td><h1>c</h1></td></tr>', '<tr><td><h1>2020-07-17</h1></td><td><h1> : </h1></td><td><h1>d</h1></td></tr>', '<tr><td><h1>2020-07-18</h1></td><td><h1> : </h1></td><td><h1>e</h1></td></tr>', '<tr><td><h1>2020-07-19</h1></td><td><h1> : </h1></td><td><h1>f</h1></td></tr>', '<tr><td><h1>2020-07-20</h1></td><td><h1> : </h1></td><td><h1>g</h1></td></tr>', '</table>']\n"
     ]
    },
    {
     "data": {
      "text/plain": [
       "['<table>',\n",
       " '<tr><td><h1>2020-07-14</h1></td><td><h1> : </h1></td><td><h1>a</h1></td></tr>',\n",
       " '<tr><td><h1>2020-07-15</h1></td><td><h1> : </h1></td><td><h1>b</h1></td></tr>',\n",
       " '<tr><td><h1>2020-07-16</h1></td><td><h1> : </h1></td><td><h1>c</h1></td></tr>',\n",
       " '<tr><td><h1>2020-07-17</h1></td><td><h1> : </h1></td><td><h1>d</h1></td></tr>',\n",
       " '<tr><td><h1>2020-07-18</h1></td><td><h1> : </h1></td><td><h1>e</h1></td></tr>',\n",
       " '<tr><td><h1>2020-07-19</h1></td><td><h1> : </h1></td><td><h1>f</h1></td></tr>',\n",
       " '<tr><td><h1>2020-07-20</h1></td><td><h1> : </h1></td><td><h1>g</h1></td></tr>',\n",
       " '</table>']"
      ]
     },
     "execution_count": 88,
     "metadata": {},
     "output_type": "execute_result"
    }
   ],
   "source": [
    "a = [\"Aa\",\"Bb\",\"Cc\"]\n",
    "result_to_html(l)"
   ]
  },
  {
   "cell_type": "code",
   "execution_count": 68,
   "metadata": {},
   "outputs": [],
   "source": [
    "with open(\"temp.html\", \"w\") as file:\n",
    "    for row in res:\n",
    "        file.write(row)"
   ]
  },
  {
   "cell_type": "code",
   "execution_count": 69,
   "metadata": {},
   "outputs": [
    {
     "data": {
      "text/plain": [
       "'2020-07-14'"
      ]
     },
     "execution_count": 69,
     "metadata": {},
     "output_type": "execute_result"
    }
   ],
   "source": [
    "yesterday = (date.today()-timedelta(days=1)).strftime('%Y-%m-%d')\n",
    "yesterday"
   ]
  },
  {
   "cell_type": "code",
   "execution_count": 41,
   "metadata": {},
   "outputs": [
    {
     "data": {
      "text/plain": [
       "DatetimeIndex(['2020-07-14', '2020-07-15', '2020-07-16', '2020-07-17',\n",
       "               '2020-07-18', '2020-07-19', '2020-07-20'],\n",
       "              dtype='datetime64[ns]', freq='D')"
      ]
     },
     "execution_count": 41,
     "metadata": {},
     "output_type": "execute_result"
    }
   ],
   "source": [
    "dates = pd.date_range(yesterday,periods=7)\n",
    "dates"
   ]
  },
  {
   "cell_type": "code",
   "execution_count": 44,
   "metadata": {},
   "outputs": [
    {
     "data": {
      "text/plain": [
       "(7, array(['a', 'b', 'c', 'd', 'e', 'f', 'g'], dtype='<U1'))"
      ]
     },
     "execution_count": 44,
     "metadata": {},
     "output_type": "execute_result"
    }
   ],
   "source": [
    "l = np.array([\"a\",\"b\",\"c\",\"d\",\"e\",\"f\",\"g\"])\n",
    "len(l),l"
   ]
  },
  {
   "cell_type": "code",
   "execution_count": 48,
   "metadata": {},
   "outputs": [
    {
     "name": "stdout",
     "output_type": "stream",
     "text": [
      "2020-07-14 00:00:00 a\n"
     ]
    }
   ],
   "source": [
    "s = zip(dates,l)\n",
    "for i in s:\n",
    "    print(i[0], i[1])\n",
    "    break"
   ]
  },
  {
   "cell_type": "code",
   "execution_count": null,
   "metadata": {},
   "outputs": [],
   "source": []
  },
  {
   "cell_type": "code",
   "execution_count": null,
   "metadata": {},
   "outputs": [],
   "source": []
  },
  {
   "cell_type": "code",
   "execution_count": null,
   "metadata": {},
   "outputs": [],
   "source": []
  },
  {
   "cell_type": "code",
   "execution_count": null,
   "metadata": {},
   "outputs": [],
   "source": []
  },
  {
   "cell_type": "code",
   "execution_count": 79,
   "metadata": {},
   "outputs": [],
   "source": [
    "from main_app import *"
   ]
  },
  {
   "cell_type": "code",
   "execution_count": 43,
   "metadata": {},
   "outputs": [
    {
     "data": {
      "text/plain": [
       "(7, array(['a', 'b', 'c', 'd', 'e', 'f', 'g'], dtype='<U1'))"
      ]
     },
     "execution_count": 43,
     "metadata": {},
     "output_type": "execute_result"
    }
   ],
   "source": [
    "l = np.array([\"a\",\"b\",\"c\"])"
   ]
  },
  {
   "cell_type": "code",
   "execution_count": null,
   "metadata": {},
   "outputs": [],
   "source": []
  },
  {
   "cell_type": "code",
   "execution_count": 134,
   "metadata": {},
   "outputs": [
    {
     "data": {
      "text/html": [
       "<div>\n",
       "<style scoped>\n",
       "    .dataframe tbody tr th:only-of-type {\n",
       "        vertical-align: middle;\n",
       "    }\n",
       "\n",
       "    .dataframe tbody tr th {\n",
       "        vertical-align: top;\n",
       "    }\n",
       "\n",
       "    .dataframe thead th {\n",
       "        text-align: right;\n",
       "    }\n",
       "</style>\n",
       "<table border=\"1\" class=\"dataframe\">\n",
       "  <thead>\n",
       "    <tr style=\"text-align: right;\">\n",
       "      <th></th>\n",
       "      <th>Date</th>\n",
       "      <th>Region</th>\n",
       "      <th>Confirmed_Cases</th>\n",
       "      <th>Active_Cases</th>\n",
       "      <th>Cured/Discharged</th>\n",
       "      <th>Death</th>\n",
       "    </tr>\n",
       "  </thead>\n",
       "  <tbody>\n",
       "    <tr>\n",
       "      <th>4038</th>\n",
       "      <td>2020-07-11</td>\n",
       "      <td>West Bengal</td>\n",
       "      <td>27109</td>\n",
       "      <td>8881</td>\n",
       "      <td>17348.0</td>\n",
       "      <td>880.0</td>\n",
       "    </tr>\n",
       "    <tr>\n",
       "      <th>4039</th>\n",
       "      <td>2020-07-12</td>\n",
       "      <td>West Bengal</td>\n",
       "      <td>28453</td>\n",
       "      <td>9588</td>\n",
       "      <td>17959.0</td>\n",
       "      <td>906.0</td>\n",
       "    </tr>\n",
       "    <tr>\n",
       "      <th>4040</th>\n",
       "      <td>2020-07-13</td>\n",
       "      <td>West Bengal</td>\n",
       "      <td>30013</td>\n",
       "      <td>10500</td>\n",
       "      <td>18581.0</td>\n",
       "      <td>932.0</td>\n",
       "    </tr>\n",
       "    <tr>\n",
       "      <th>4041</th>\n",
       "      <td>2020-07-14</td>\n",
       "      <td>West Bengal</td>\n",
       "      <td>31448</td>\n",
       "      <td>11279</td>\n",
       "      <td>19213.0</td>\n",
       "      <td>956.0</td>\n",
       "    </tr>\n",
       "    <tr>\n",
       "      <th>4042</th>\n",
       "      <td>2020-07-15</td>\n",
       "      <td>West Bengal</td>\n",
       "      <td>32838</td>\n",
       "      <td>11927</td>\n",
       "      <td>19931.0</td>\n",
       "      <td>980.0</td>\n",
       "    </tr>\n",
       "  </tbody>\n",
       "</table>\n",
       "</div>"
      ],
      "text/plain": [
       "            Date       Region  Confirmed_Cases  Active_Cases  \\\n",
       "4038  2020-07-11  West Bengal            27109          8881   \n",
       "4039  2020-07-12  West Bengal            28453          9588   \n",
       "4040  2020-07-13  West Bengal            30013         10500   \n",
       "4041  2020-07-14  West Bengal            31448         11279   \n",
       "4042  2020-07-15  West Bengal            32838         11927   \n",
       "\n",
       "      Cured/Discharged  Death  \n",
       "4038           17348.0  880.0  \n",
       "4039           17959.0  906.0  \n",
       "4040           18581.0  932.0  \n",
       "4041           19213.0  956.0  \n",
       "4042           19931.0  980.0  "
      ]
     },
     "execution_count": 134,
     "metadata": {},
     "output_type": "execute_result"
    }
   ],
   "source": [
    "df = pd.read_csv(r\"F:\\DataScience\\AWS\\ec2-user@13.233.251.25\\COVID_Database.csv\")\n",
    "df.tail()"
   ]
  },
  {
   "cell_type": "code",
   "execution_count": 148,
   "metadata": {},
   "outputs": [],
   "source": [
    "def find_best_params(state, pdq):\n",
    "    aic_values = []\n",
    "    for param in pdq:\n",
    "        try:\n",
    "            #initilizing ARIMA model\n",
    "            model = ARIMA(state.Confirmed_Cases_diff[:-2], order=param)\n",
    "            model_fit = model.fit()\n",
    "#             print(param, model_fit.aic)\n",
    "            aic_values.append([param, model_fit.aic])\n",
    "        except:\n",
    "            pass\n",
    "\n",
    "    aic_values = np.array(aic_values)\n",
    "    a = np.where(aic_values == aic_values[:,1].min())[0][0]\n",
    "    return aic_values[a][0]"
   ]
  },
  {
   "cell_type": "code",
   "execution_count": 149,
   "metadata": {},
   "outputs": [],
   "source": [
    "def fit_model():\n",
    "    df = pd.read_csv(r\"F:\\DataScience\\AWS\\ec2-user@13.233.251.25\\COVID_Database.csv\")\n",
    "    cols = list(df.columns)\n",
    "    cols = [i.replace(\" \",\"_\") for i in cols]\n",
    "    df.columns = cols\n",
    "\n",
    "    states_df = df.groupby('Region')\n",
    "    state_df = [pd.DataFrame(states_df.get_group(state)) for state in states_df.groups]\n",
    "    \n",
    "    p=range(0,9)\n",
    "    d=range(0,3)\n",
    "    q=range(0,5)\n",
    "    pdq = list(itertools.product(p,d,q))\n",
    "\n",
    "    state_model = {}\n",
    "    for state in state_df[15:16]:\n",
    "\n",
    "        state.index = pd.to_datetime(state.Date,format='%Y-%m-%d')\n",
    "    #     state.drop(columns=[\"Date\",\"Region\"], axis=1, inplace=True)\n",
    "\n",
    "        print(\"Processing:\", state.Region[0])\n",
    "\n",
    "        n = 30\n",
    "        state.Confirmed_Cases_diff = state.Confirmed_Cases#.diff(n)[n:]\n",
    "        params = find_best_params(state, pdq)\n",
    "        print(params)\n",
    "        \n",
    "        #initilizing ARIMA model\n",
    "        model = ARIMA(state.Confirmed_Cases_diff[:-2], order=params)\n",
    "        model_fit = model.fit()\n",
    "#         print(params)\n",
    "\n",
    "        state_model[str(state.Region[0])] = model_fit\n",
    "\n",
    "#         break\n",
    "\n",
    "    for region in state_model.keys():\n",
    "#         joblib.dump(state_model[region], region+\".ml\")\n",
    "        joblib.dump(state_model[region], r\"F:\\DataScience\\AWS\\ec2-user@13.233.251.25/\"+region+\".ml\")\n",
    "        \n",
    "#     print(\"DONE\")\n",
    "    return \"DONE\""
   ]
  },
  {
   "cell_type": "code",
   "execution_count": 150,
   "metadata": {},
   "outputs": [
    {
     "name": "stdout",
     "output_type": "stream",
     "text": [
      "Processing: Karnataka\n",
      "(8, 2, 0)\n"
     ]
    },
    {
     "data": {
      "text/plain": [
       "'DONE'"
      ]
     },
     "execution_count": 150,
     "metadata": {},
     "output_type": "execute_result"
    }
   ],
   "source": [
    "fit_model()"
   ]
  },
  {
   "cell_type": "code",
   "execution_count": 151,
   "metadata": {},
   "outputs": [],
   "source": [
    "def forecast_cases(region, n=7):\n",
    "    \n",
    "    model_fit = joblib.load(r\"F:\\DataScience\\AWS\\ec2-user@13.233.251.25/\"+region+\".ml\")\n",
    "    # multi-step out-of-sample forecast\n",
    "    forecast, std_error, confidence_interval = model_fit.forecast(steps=n)\n",
    "    return forecast, std_error,confidence_interval"
   ]
  },
  {
   "cell_type": "code",
   "execution_count": 152,
   "metadata": {},
   "outputs": [
    {
     "data": {
      "text/plain": [
       "array([41410.41757088, 43987.74141222, 46692.53399802, 49793.49001124,\n",
       "       52970.45576499, 56280.659978  , 59693.02985345])"
      ]
     },
     "execution_count": 152,
     "metadata": {},
     "output_type": "execute_result"
    }
   ],
   "source": [
    "forecast, std_error, confidence_interval = forecast_cases(\"Karnataka\",7)\n",
    "forecast"
   ]
  },
  {
   "cell_type": "code",
   "execution_count": 153,
   "metadata": {},
   "outputs": [
    {
     "data": {
      "text/plain": [
       "array([[41217.73274257, 41603.10239919],\n",
       "       [43595.07322563, 44380.40959881],\n",
       "       [46089.68629307, 47295.38170298],\n",
       "       [48942.08867654, 50644.89134593],\n",
       "       [51848.60182515, 54092.30970483]])"
      ]
     },
     "execution_count": 153,
     "metadata": {},
     "output_type": "execute_result"
    }
   ],
   "source": [
    "confidence_interval[:5]"
   ]
  },
  {
   "cell_type": "code",
   "execution_count": 154,
   "metadata": {},
   "outputs": [
    {
     "data": {
      "text/plain": [
       "array([[41119.42235022, 41701.41279154],\n",
       "       [43394.72863272, 44580.75419171],\n",
       "       [45782.10528152, 47602.96271452],\n",
       "       [48507.69225833, 51079.28776414],\n",
       "       [51276.21684834, 54664.69468164],\n",
       "       [54124.40826619, 58436.91168982],\n",
       "       [57000.51100251, 62385.5487044 ]])"
      ]
     },
     "execution_count": 154,
     "metadata": {},
     "output_type": "execute_result"
    }
   ],
   "source": [
    "confidence_interval1 = []\n",
    "for i, error in enumerate(std_error):\n",
    "    confidence_interval1.append([confidence_interval[i,0]-error,confidence_interval[i,1]+error])\n",
    "    \n",
    "confidence_interval1 = np.array(confidence_interval1)\n",
    "confidence_interval1"
   ]
  },
  {
   "cell_type": "code",
   "execution_count": 155,
   "metadata": {},
   "outputs": [],
   "source": [
    "states_df = df.groupby('Region')\n",
    "state_df = [pd.DataFrame(states_df.get_group(state)) for state in states_df.groups]"
   ]
  },
  {
   "cell_type": "code",
   "execution_count": 156,
   "metadata": {},
   "outputs": [
    {
     "data": {
      "text/html": [
       "<div>\n",
       "<style scoped>\n",
       "    .dataframe tbody tr th:only-of-type {\n",
       "        vertical-align: middle;\n",
       "    }\n",
       "\n",
       "    .dataframe tbody tr th {\n",
       "        vertical-align: top;\n",
       "    }\n",
       "\n",
       "    .dataframe thead th {\n",
       "        text-align: right;\n",
       "    }\n",
       "</style>\n",
       "<table border=\"1\" class=\"dataframe\">\n",
       "  <thead>\n",
       "    <tr style=\"text-align: right;\">\n",
       "      <th></th>\n",
       "      <th>Date</th>\n",
       "      <th>Region</th>\n",
       "      <th>Confirmed_Cases</th>\n",
       "      <th>Active_Cases</th>\n",
       "      <th>Cured/Discharged</th>\n",
       "      <th>Death</th>\n",
       "      <th>Confirmed_Cases_diff</th>\n",
       "    </tr>\n",
       "    <tr>\n",
       "      <th>Date</th>\n",
       "      <th></th>\n",
       "      <th></th>\n",
       "      <th></th>\n",
       "      <th></th>\n",
       "      <th></th>\n",
       "      <th></th>\n",
       "      <th></th>\n",
       "    </tr>\n",
       "  </thead>\n",
       "  <tbody>\n",
       "    <tr>\n",
       "      <th>2020-07-07</th>\n",
       "      <td>2020-07-07</td>\n",
       "      <td>Karnataka</td>\n",
       "      <td>25317</td>\n",
       "      <td>14389</td>\n",
       "      <td>10527.0</td>\n",
       "      <td>401.0</td>\n",
       "      <td>20104.0</td>\n",
       "    </tr>\n",
       "    <tr>\n",
       "      <th>2020-07-08</th>\n",
       "      <td>2020-07-08</td>\n",
       "      <td>Karnataka</td>\n",
       "      <td>26815</td>\n",
       "      <td>15301</td>\n",
       "      <td>11098.0</td>\n",
       "      <td>416.0</td>\n",
       "      <td>21363.0</td>\n",
       "    </tr>\n",
       "    <tr>\n",
       "      <th>2020-07-09</th>\n",
       "      <td>2020-07-09</td>\n",
       "      <td>Karnataka</td>\n",
       "      <td>28877</td>\n",
       "      <td>16531</td>\n",
       "      <td>11876.0</td>\n",
       "      <td>470.0</td>\n",
       "      <td>23117.0</td>\n",
       "    </tr>\n",
       "    <tr>\n",
       "      <th>2020-07-10</th>\n",
       "      <td>2020-07-10</td>\n",
       "      <td>Karnataka</td>\n",
       "      <td>31105</td>\n",
       "      <td>17786</td>\n",
       "      <td>12833.0</td>\n",
       "      <td>486.0</td>\n",
       "      <td>25184.0</td>\n",
       "    </tr>\n",
       "    <tr>\n",
       "      <th>2020-07-11</th>\n",
       "      <td>2020-07-11</td>\n",
       "      <td>Karnataka</td>\n",
       "      <td>33418</td>\n",
       "      <td>19039</td>\n",
       "      <td>13836.0</td>\n",
       "      <td>543.0</td>\n",
       "      <td>27377.0</td>\n",
       "    </tr>\n",
       "    <tr>\n",
       "      <th>2020-07-12</th>\n",
       "      <td>2020-07-12</td>\n",
       "      <td>Karnataka</td>\n",
       "      <td>36216</td>\n",
       "      <td>20887</td>\n",
       "      <td>14716.0</td>\n",
       "      <td>613.0</td>\n",
       "      <td>29971.0</td>\n",
       "    </tr>\n",
       "    <tr>\n",
       "      <th>2020-07-13</th>\n",
       "      <td>2020-07-13</td>\n",
       "      <td>Karnataka</td>\n",
       "      <td>38843</td>\n",
       "      <td>22750</td>\n",
       "      <td>15409.0</td>\n",
       "      <td>684.0</td>\n",
       "      <td>32327.0</td>\n",
       "    </tr>\n",
       "    <tr>\n",
       "      <th>2020-07-14</th>\n",
       "      <td>2020-07-14</td>\n",
       "      <td>Karnataka</td>\n",
       "      <td>41581</td>\n",
       "      <td>24576</td>\n",
       "      <td>16248.0</td>\n",
       "      <td>757.0</td>\n",
       "      <td>34757.0</td>\n",
       "    </tr>\n",
       "    <tr>\n",
       "      <th>2020-07-15</th>\n",
       "      <td>2020-07-15</td>\n",
       "      <td>Karnataka</td>\n",
       "      <td>44077</td>\n",
       "      <td>25845</td>\n",
       "      <td>17390.0</td>\n",
       "      <td>842.0</td>\n",
       "      <td>37077.0</td>\n",
       "    </tr>\n",
       "  </tbody>\n",
       "</table>\n",
       "</div>"
      ],
      "text/plain": [
       "                  Date     Region  Confirmed_Cases  Active_Cases  \\\n",
       "Date                                                               \n",
       "2020-07-07  2020-07-07  Karnataka            25317         14389   \n",
       "2020-07-08  2020-07-08  Karnataka            26815         15301   \n",
       "2020-07-09  2020-07-09  Karnataka            28877         16531   \n",
       "2020-07-10  2020-07-10  Karnataka            31105         17786   \n",
       "2020-07-11  2020-07-11  Karnataka            33418         19039   \n",
       "2020-07-12  2020-07-12  Karnataka            36216         20887   \n",
       "2020-07-13  2020-07-13  Karnataka            38843         22750   \n",
       "2020-07-14  2020-07-14  Karnataka            41581         24576   \n",
       "2020-07-15  2020-07-15  Karnataka            44077         25845   \n",
       "\n",
       "            Cured/Discharged  Death  Confirmed_Cases_diff  \n",
       "Date                                                       \n",
       "2020-07-07           10527.0  401.0               20104.0  \n",
       "2020-07-08           11098.0  416.0               21363.0  \n",
       "2020-07-09           11876.0  470.0               23117.0  \n",
       "2020-07-10           12833.0  486.0               25184.0  \n",
       "2020-07-11           13836.0  543.0               27377.0  \n",
       "2020-07-12           14716.0  613.0               29971.0  \n",
       "2020-07-13           15409.0  684.0               32327.0  \n",
       "2020-07-14           16248.0  757.0               34757.0  \n",
       "2020-07-15           17390.0  842.0               37077.0  "
      ]
     },
     "execution_count": 156,
     "metadata": {},
     "output_type": "execute_result"
    }
   ],
   "source": [
    "n = 30\n",
    "state = state_df[15].copy()\n",
    "state[\"Confirmed_Cases_diff\"] = state.Confirmed_Cases.diff(n)[n:]\n",
    "state.index = state.Date\n",
    "state.tail(9)"
   ]
  },
  {
   "cell_type": "code",
   "execution_count": null,
   "metadata": {},
   "outputs": [],
   "source": []
  },
  {
   "cell_type": "code",
   "execution_count": 157,
   "metadata": {},
   "outputs": [],
   "source": [
    "n=7\n",
    "m=2 #2\n",
    "forecasted_difference = pd.DataFrame(index=pd.date_range(state.Date[-m], periods=n)) \n",
    "forecasted_difference[\"Confirmed_Cases\"] = state.Confirmed_Cases[-m:]\n",
    "forecasted_difference[\"Confirmed_Cases\"][:m] = state.Confirmed_Cases[-m:]\n",
    "#pd.DataFrame(index=state.Date[-n:])\n",
    "forecasted_difference[\"Confirmed_Cases_diff\"] = state.Confirmed_Cases_diff[-m:]\n",
    "forecasted_difference[\"Confirmed_Cases_diff\"][:m] = state.Confirmed_Cases_diff[-m:]\n",
    "forecasted_difference[\"forecasted\"] = forecast\n",
    "\n",
    "forecasted_high = pd.DataFrame([i*1.05 for i in forecasted_difference.forecasted], index=pd.date_range(state.Date[-m], periods=n))\n",
    "forecasted_low = pd.DataFrame([i*0.95 for i in forecasted_difference.forecasted], index=pd.date_range(state.Date[-m], periods=n))\n",
    "\n",
    "forecasted_difference[\"forecasted_high\"] = confidence_interval1[:,0]\n",
    "forecasted_difference[\"forecasted_low\"] = confidence_interval1[:,1]"
   ]
  },
  {
   "cell_type": "code",
   "execution_count": 158,
   "metadata": {},
   "outputs": [
    {
     "data": {
      "text/html": [
       "<div>\n",
       "<style scoped>\n",
       "    .dataframe tbody tr th:only-of-type {\n",
       "        vertical-align: middle;\n",
       "    }\n",
       "\n",
       "    .dataframe tbody tr th {\n",
       "        vertical-align: top;\n",
       "    }\n",
       "\n",
       "    .dataframe thead th {\n",
       "        text-align: right;\n",
       "    }\n",
       "</style>\n",
       "<table border=\"1\" class=\"dataframe\">\n",
       "  <thead>\n",
       "    <tr style=\"text-align: right;\">\n",
       "      <th></th>\n",
       "      <th>Confirmed_Cases</th>\n",
       "      <th>Confirmed_Cases_diff</th>\n",
       "      <th>forecasted</th>\n",
       "      <th>forecasted_high</th>\n",
       "      <th>forecasted_low</th>\n",
       "    </tr>\n",
       "  </thead>\n",
       "  <tbody>\n",
       "    <tr>\n",
       "      <th>2020-07-14</th>\n",
       "      <td>41581.0</td>\n",
       "      <td>34757.0</td>\n",
       "      <td>41410.417571</td>\n",
       "      <td>41119.422350</td>\n",
       "      <td>41701.412792</td>\n",
       "    </tr>\n",
       "    <tr>\n",
       "      <th>2020-07-15</th>\n",
       "      <td>44077.0</td>\n",
       "      <td>37077.0</td>\n",
       "      <td>43987.741412</td>\n",
       "      <td>43394.728633</td>\n",
       "      <td>44580.754192</td>\n",
       "    </tr>\n",
       "    <tr>\n",
       "      <th>2020-07-16</th>\n",
       "      <td>NaN</td>\n",
       "      <td>NaN</td>\n",
       "      <td>46692.533998</td>\n",
       "      <td>45782.105282</td>\n",
       "      <td>47602.962715</td>\n",
       "    </tr>\n",
       "    <tr>\n",
       "      <th>2020-07-17</th>\n",
       "      <td>NaN</td>\n",
       "      <td>NaN</td>\n",
       "      <td>49793.490011</td>\n",
       "      <td>48507.692258</td>\n",
       "      <td>51079.287764</td>\n",
       "    </tr>\n",
       "    <tr>\n",
       "      <th>2020-07-18</th>\n",
       "      <td>NaN</td>\n",
       "      <td>NaN</td>\n",
       "      <td>52970.455765</td>\n",
       "      <td>51276.216848</td>\n",
       "      <td>54664.694682</td>\n",
       "    </tr>\n",
       "    <tr>\n",
       "      <th>2020-07-19</th>\n",
       "      <td>NaN</td>\n",
       "      <td>NaN</td>\n",
       "      <td>56280.659978</td>\n",
       "      <td>54124.408266</td>\n",
       "      <td>58436.911690</td>\n",
       "    </tr>\n",
       "    <tr>\n",
       "      <th>2020-07-20</th>\n",
       "      <td>NaN</td>\n",
       "      <td>NaN</td>\n",
       "      <td>59693.029853</td>\n",
       "      <td>57000.511003</td>\n",
       "      <td>62385.548704</td>\n",
       "    </tr>\n",
       "  </tbody>\n",
       "</table>\n",
       "</div>"
      ],
      "text/plain": [
       "            Confirmed_Cases  Confirmed_Cases_diff    forecasted  \\\n",
       "2020-07-14          41581.0               34757.0  41410.417571   \n",
       "2020-07-15          44077.0               37077.0  43987.741412   \n",
       "2020-07-16              NaN                   NaN  46692.533998   \n",
       "2020-07-17              NaN                   NaN  49793.490011   \n",
       "2020-07-18              NaN                   NaN  52970.455765   \n",
       "2020-07-19              NaN                   NaN  56280.659978   \n",
       "2020-07-20              NaN                   NaN  59693.029853   \n",
       "\n",
       "            forecasted_high  forecasted_low  \n",
       "2020-07-14     41119.422350    41701.412792  \n",
       "2020-07-15     43394.728633    44580.754192  \n",
       "2020-07-16     45782.105282    47602.962715  \n",
       "2020-07-17     48507.692258    51079.287764  \n",
       "2020-07-18     51276.216848    54664.694682  \n",
       "2020-07-19     54124.408266    58436.911690  \n",
       "2020-07-20     57000.511003    62385.548704  "
      ]
     },
     "execution_count": 158,
     "metadata": {},
     "output_type": "execute_result"
    }
   ],
   "source": [
    "forecasted_difference"
   ]
  },
  {
   "cell_type": "code",
   "execution_count": 159,
   "metadata": {},
   "outputs": [
    {
     "name": "stderr",
     "output_type": "stream",
     "text": [
      "No handles with labels found to put in legend.\n"
     ]
    },
    {
     "data": {
      "text/plain": [
       "<matplotlib.legend.Legend at 0x1d3d3cee340>"
      ]
     },
     "execution_count": 159,
     "metadata": {},
     "output_type": "execute_result"
    },
    {
     "data": {
      "image/png": "[encoded data removed]",
      "text/plain": [
       "<Figure size 1152x576 with 1 Axes>"
      ]
     },
     "metadata": {
      "needs_background": "light"
     },
     "output_type": "display_data"
    }
   ],
   "source": [
    "plt.figure(\"Forecast\", figsize=(16,8))\n",
    "plt.plot(forecasted_difference.index, forecasted_difference.Confirmed_Cases, linewidth=2.0) #, color=\"blue\")\n",
    "plt.plot(forecasted_difference.index, forecasted_difference.forecasted) #, color=\"orange\")\n",
    "# plt.plot(forecasted_difference.index, forecasted_difference.Confirmed_Cases, linewidth=1.0) #, color=\"blue\")\n",
    "plt.plot(forecasted_difference.index, forecasted_difference.forecasted_high, color=\"dimgray\", linestyle=\"--\")\n",
    "plt.plot(forecasted_difference.index, forecasted_difference.forecasted_low, color=\"dimgray\", linestyle=\"--\")\n",
    "plt.legend()"
   ]
  },
  {
   "cell_type": "code",
   "execution_count": null,
   "metadata": {},
   "outputs": [],
   "source": []
  },
  {
   "cell_type": "code",
   "execution_count": null,
   "metadata": {},
   "outputs": [],
   "source": []
  },
  {
   "cell_type": "code",
   "execution_count": null,
   "metadata": {},
   "outputs": [],
   "source": []
  },
  {
   "cell_type": "code",
   "execution_count": 122,
   "metadata": {},
   "outputs": [],
   "source": [
    "import plotly.graph_objects as go\n",
    "import chart_studio.tools as tls"
   ]
  },
  {
   "cell_type": "code",
   "execution_count": null,
   "metadata": {},
   "outputs": [],
   "source": [
    "#Create the graph\n",
    "data = [go.Scatter(x=state_df[15][\"Date\"], y=state_df[15][\"Confirmed_Cases\"], mode='lines+markers', name='Confirmed Cases'),\n",
    "go.Scatter(x=state_df[15][\"Date\"], y=state_df[15][\"Active_Cases\"], mode='lines+markers', name='Active Cases'),\n",
    "go.Scatter(x=state_df[15][\"Date\"], y=state_df[15][\"Cured/Discharged\"], mode='lines+markers', name='Cured/Discharged'),\n",
    "go.Scatter(x=state_df[15][\"Date\"], y=state_df[15][\"Death\"], mode='lines+markers', name='Deaths')]\n",
    "\n",
    "\n",
    "\n",
    "#Edit the layout\n",
    "fig.update_layout(template='plotly_white', legend=dict(x=0.01, y=0.99))\n",
    "fig.update_layout(title='COVID-19 Cases', xaxis_title='Date', yaxis_title='Number of Cases')\n",
    "fig.show()\n",
    "\n",
    "graphJSON = json.dumps(data, cls=plotly.utils.PlotlyJSONEncoder)"
   ]
  },
  {
   "cell_type": "code",
   "execution_count": null,
   "metadata": {},
   "outputs": [],
   "source": [
    "go."
   ]
  },
  {
   "cell_type": "code",
   "execution_count": null,
   "metadata": {},
   "outputs": [],
   "source": []
  },
  {
   "cell_type": "code",
   "execution_count": null,
   "metadata": {},
   "outputs": [],
   "source": [
    "graphJSON = json.dumps(data, cls=plotly.utils.PlotlyJSONEncoder)"
   ]
  },
  {
   "cell_type": "code",
   "execution_count": null,
   "metadata": {},
   "outputs": [],
   "source": [
    "@app.route('/')\n",
    "def index():\n",
    "\n",
    "    bar = create_plot()\n",
    "    return render_template('index.html', plot=bar)"
   ]
  },
  {
   "cell_type": "code",
   "execution_count": 164,
   "metadata": {},
   "outputs": [],
   "source": [
    "today = date.today().strftime(\"%y-%m-%d\")"
   ]
  },
  {
   "cell_type": "code",
   "execution_count": 179,
   "metadata": {},
   "outputs": [
    {
     "data": {
      "text/plain": [
       "41581.0"
      ]
     },
     "execution_count": 179,
     "metadata": {},
     "output_type": "execute_result"
    }
   ],
   "source": [
    "forecasted_difference.Confirmed_Cases.loc[(date.today()-timedelta(1)).strftime(\"%d-%m-%Y\")]"
   ]
  },
  {
   "cell_type": "code",
   "execution_count": 177,
   "metadata": {},
   "outputs": [
    {
     "data": {
      "text/plain": [
       "datetime.date(2020, 7, 15)"
      ]
     },
     "execution_count": 177,
     "metadata": {},
     "output_type": "execute_result"
    }
   ],
   "source": [
    "date.today()"
   ]
  },
  {
   "cell_type": "code",
   "execution_count": 186,
   "metadata": {},
   "outputs": [
    {
     "data": {
      "text/html": [
       "<div>\n",
       "<style scoped>\n",
       "    .dataframe tbody tr th:only-of-type {\n",
       "        vertical-align: middle;\n",
       "    }\n",
       "\n",
       "    .dataframe tbody tr th {\n",
       "        vertical-align: top;\n",
       "    }\n",
       "\n",
       "    .dataframe thead th {\n",
       "        text-align: right;\n",
       "    }\n",
       "</style>\n",
       "<table border=\"1\" class=\"dataframe\">\n",
       "  <thead>\n",
       "    <tr style=\"text-align: right;\">\n",
       "      <th></th>\n",
       "      <th>Date</th>\n",
       "      <th>Region</th>\n",
       "      <th>Confirmed_Cases</th>\n",
       "      <th>Active_Cases</th>\n",
       "      <th>Cured/Discharged</th>\n",
       "      <th>Death</th>\n",
       "    </tr>\n",
       "  </thead>\n",
       "  <tbody>\n",
       "    <tr>\n",
       "      <th>2020-07-11</th>\n",
       "      <td>2020-07-11</td>\n",
       "      <td>West Bengal</td>\n",
       "      <td>27109</td>\n",
       "      <td>8881</td>\n",
       "      <td>17348.0</td>\n",
       "      <td>880.0</td>\n",
       "    </tr>\n",
       "    <tr>\n",
       "      <th>2020-07-12</th>\n",
       "      <td>2020-07-12</td>\n",
       "      <td>West Bengal</td>\n",
       "      <td>28453</td>\n",
       "      <td>9588</td>\n",
       "      <td>17959.0</td>\n",
       "      <td>906.0</td>\n",
       "    </tr>\n",
       "    <tr>\n",
       "      <th>2020-07-13</th>\n",
       "      <td>2020-07-13</td>\n",
       "      <td>West Bengal</td>\n",
       "      <td>30013</td>\n",
       "      <td>10500</td>\n",
       "      <td>18581.0</td>\n",
       "      <td>932.0</td>\n",
       "    </tr>\n",
       "    <tr>\n",
       "      <th>2020-07-14</th>\n",
       "      <td>2020-07-14</td>\n",
       "      <td>West Bengal</td>\n",
       "      <td>31448</td>\n",
       "      <td>11279</td>\n",
       "      <td>19213.0</td>\n",
       "      <td>956.0</td>\n",
       "    </tr>\n",
       "    <tr>\n",
       "      <th>2020-07-15</th>\n",
       "      <td>2020-07-15</td>\n",
       "      <td>West Bengal</td>\n",
       "      <td>32838</td>\n",
       "      <td>11927</td>\n",
       "      <td>19931.0</td>\n",
       "      <td>980.0</td>\n",
       "    </tr>\n",
       "  </tbody>\n",
       "</table>\n",
       "</div>"
      ],
      "text/plain": [
       "                  Date       Region  Confirmed_Cases  Active_Cases  \\\n",
       "2020-07-11  2020-07-11  West Bengal            27109          8881   \n",
       "2020-07-12  2020-07-12  West Bengal            28453          9588   \n",
       "2020-07-13  2020-07-13  West Bengal            30013         10500   \n",
       "2020-07-14  2020-07-14  West Bengal            31448         11279   \n",
       "2020-07-15  2020-07-15  West Bengal            32838         11927   \n",
       "\n",
       "            Cured/Discharged  Death  \n",
       "2020-07-11           17348.0  880.0  \n",
       "2020-07-12           17959.0  906.0  \n",
       "2020-07-13           18581.0  932.0  \n",
       "2020-07-14           19213.0  956.0  \n",
       "2020-07-15           19931.0  980.0  "
      ]
     },
     "execution_count": 186,
     "metadata": {},
     "output_type": "execute_result"
    }
   ],
   "source": [
    "df.index = df.Date.values\n",
    "df.tail()"
   ]
  },
  {
   "cell_type": "code",
   "execution_count": 204,
   "metadata": {},
   "outputs": [
    {
     "data": {
      "text/plain": [
       "41581"
      ]
     },
     "execution_count": 204,
     "metadata": {},
     "output_type": "execute_result"
    }
   ],
   "source": [
    "region = \"Karnataka\"\n",
    "df.Confirmed_Cases[df.Region==region][str(date.today()-timedelta(1))]"
   ]
  },
  {
   "cell_type": "code",
   "execution_count": 203,
   "metadata": {},
   "outputs": [
    {
     "data": {
      "text/plain": [
       "'2020-07-14'"
      ]
     },
     "execution_count": 203,
     "metadata": {},
     "output_type": "execute_result"
    }
   ],
   "source": [
    "str(date.today()-timedelta(1))"
   ]
  },
  {
   "cell_type": "code",
   "execution_count": 236,
   "metadata": {},
   "outputs": [
    {
     "data": {
      "text/plain": [
       "44077"
      ]
     },
     "execution_count": 236,
     "metadata": {},
     "output_type": "execute_result"
    }
   ],
   "source": [
    "df.Confirmed_Cases[df.Region==\"Karnataka\"]['2020-07-15']"
   ]
  },
  {
   "cell_type": "code",
   "execution_count": 242,
   "metadata": {},
   "outputs": [],
   "source": []
  },
  {
   "cell_type": "code",
   "execution_count": null,
   "metadata": {},
   "outputs": [],
   "source": []
  },
  {
   "cell_type": "code",
   "execution_count": null,
   "metadata": {},
   "outputs": [],
   "source": []
  },
  {
   "cell_type": "code",
   "execution_count": null,
   "metadata": {},
   "outputs": [],
   "source": []
  },
  {
   "cell_type": "code",
   "execution_count": null,
   "metadata": {},
   "outputs": [],
   "source": []
  }
 ],
 "metadata": {
  "kernelspec": {
   "display_name": "Python 3",
   "language": "python",
   "name": "python3"
  },
  "language_info": {
   "codemirror_mode": {
    "name": "ipython",
    "version": 3
   },
   "file_extension": ".py",
   "mimetype": "text/x-python",
   "name": "python",
   "nbconvert_exporter": "python",
   "pygments_lexer": "ipython3",
   "version": "3.8.3"
  }
 },
 "nbformat": 4,
 "nbformat_minor": 2
}
